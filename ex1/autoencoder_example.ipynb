{
 "cells": [
  {
   "cell_type": "markdown",
   "metadata": {},
   "source": [
    "### 1/17 追記\n",
    "AutoEncoderとベイズを比較して、\n",
    "`predicted image`と`p(P|Q)`の値がほぼ等しい結果が得られた.\n",
    "\n",
    "それは一体なぜなのか考察してください.\n",
    "\n",
    "\n",
    "また、この2つの間の違いを定量的に評価することは、発表の上で非常に重要な要素になりそうだと考えられます.\n",
    "質よりも量で思いついた事、新しい知見などはお互い共有しよう. 何もアウトプットしないことだけは避けてほしいです.\n",
    "\n",
    "\n",
    "橋爪さんからのアドバイスは以下の3つ.\n",
    "- `predicted image with binalization`から`original image`に変換出来るか確認する\n",
    "- `4x4MatrixGenerator.ipynb`のフィルター**A**の値を工夫する. 具体的には、より現実に近いケースを考える. 例として正規分布に従ったノイズ$\\epsilon$を加えてみたり... (要考察)\n",
    "- 実際の風景画や、大きなサイズにおいてこのアルゴリズムを適用してみる. ファミコンのドット絵とか面白そう? もしRGBに対応させるにはどうするか？　要考察"
   ]
  },
  {
   "cell_type": "code",
   "execution_count": 46,
   "metadata": {},
   "outputs": [],
   "source": [
    "import numpy as np\n",
    "import pandas as pd\n",
    "import pydot\n",
    "import matplotlib.pyplot as plt\n",
    "import itertools as iter\n",
    "import tensorflow as tf\n",
    "from tensorflow import keras\n",
    "from tensorflow.keras.models import Sequential\n",
    "from tensorflow.keras.layers import Dense, Activation, Dropout, Conv2D, UpSampling2D\n",
    "\n",
    "from PIL import Image\n",
    "\n",
    "%matplotlib inline"
   ]
  },
  {
   "cell_type": "code",
   "execution_count": 282,
   "metadata": {},
   "outputs": [],
   "source": [
    "tf.keras.activations.relu?"
   ]
  },
  {
   "cell_type": "code",
   "execution_count": 281,
   "metadata": {},
   "outputs": [],
   "source": [
    "tf.nn.relu?"
   ]
  },
  {
   "cell_type": "markdown",
   "metadata": {},
   "source": [
    "### ベイズなし版"
   ]
  },
  {
   "cell_type": "code",
   "execution_count": 290,
   "metadata": {},
   "outputs": [],
   "source": [
    "class AE():\n",
    "    def __init__(self, optimizer='rmsprop', loss='mean_squared_error', input_data_path=\"../4x4matrix.csv\"):\n",
    "        self.p_matrix = np.load(\"4x4matrix.npz\")[\"p_matrix\"]\n",
    "        self.q_matrix = np.load(\"4x4matrix.npz\")[\"q_matrix\"]\n",
    "        self.optimizer = optimizer\n",
    "        self.model = Sequential()\n",
    "        #keras.layers.ReLU(max_value=1, negative_slope=0, threshold = 0)\n",
    "        self.model.add( Dense(16, activation = tf.nn.relu, input_dim = 9) )\n",
    "        self.model.add( Dropout(0.2) )\n",
    "        self.model.add( Dense(16, activation = tf.nn.relu ) )\n",
    "        self.model.add( Dropout(0.2) )\n",
    "        self.model.add( Dense(16, activation = tf.nn.relu ) )\n",
    "        self.model.add( Dense(16, activation = tf.nn.sigmoid ) )\n",
    "        self.model.compile(optimizer = optimizer,\n",
    "                           loss = loss,\n",
    "                           metrics = ['accuracy'])\n",
    "    def bayes(self, test_img):\n",
    "        preds = self.model.predict(test_img).reshape(4,4)\n",
    "        preds_binary = preds.copy()\n",
    "        preds_binary[preds_binary < threshold] = 0\n",
    "        preds_binary[preds_binary >= threshold] = 1\n",
    "        print(preds, preds_binary)\n",
    "        \n",
    "        ncols = 5\n",
    "        fig, axes = plt.subplots(nrows = 1, ncols = ncols, figsize = (16,16))\n",
    "        bayes_image = np.empty(16)\n",
    "        index_when_given_q = np.all(self.q_matrix == test_img.reshape(9,), axis = 1)\n",
    "        p_given_q = self.p_matrix[index_when_given_q]\n",
    "        print(p_given_q)\n",
    "        for col in range(16):\n",
    "            is_one_counter = 0\n",
    "            target_list = [p_given_q[row][col] for row in range(p_given_q.shape[0])]\n",
    "            total_length = len(target_list)\n",
    "            print(total_length)\n",
    "            for j in range(total_length):\n",
    "                if target_list[j] == 1:\n",
    "                    is_one_counter += 1\n",
    "                prob = is_one_counter / total_length\n",
    "                bayes_image[col] = prob\n",
    "        \n",
    "        axes[0].imshow(test_img.reshape(3,3), cmap = plt.cm.binary)\n",
    "        axes[0].set_title(\"original image\")\n",
    "        axes[1].imshow(preds, cmap = plt.cm.binary)\n",
    "        axes[1].set_title(\"predicted image\")\n",
    "        axes[2].imshow(preds_binary, cmap = plt.cm.binary)\n",
    "        axes[2].set_title(\"predicted image with binalization\")\n",
    "        axes[3].imshow(bayes_image.reshape(4,4), cmap = plt.cm.binary)\n",
    "        axes[3].set_title(\"p(P|Q) image based on bayes\")\n",
    "        bayes_image[ bayes_image < thresold ] = 0\n",
    "        bayes_image[ bayes_image >= thresold ] = 1\n",
    "        axes[4].imshow(bayes_image.reshape(4,4), cmap = plt.cm.binary)\n",
    "        axes[4].set_title(\"p(P|Q) image based on bayes with binalization\")\n",
    "        \n",
    "    def fit(self, epochs='4', batch_size='256'):\n",
    "        self.model.fit(self.q_matrix, self.p_matrix,\n",
    "                      epochs = epochs,\n",
    "                      batch_size = batch_size,\n",
    "                      validation_data = (self.q_matrix, self.p_matrix))\n",
    "    \n",
    "    def predict(self, test_img, threshold):\n",
    "        preds = self.model.predict(test_img).reshape(4,4)\n",
    "        preds_binary = preds.copy()\n",
    "        preds_binary[preds_binary < threshold] = 0\n",
    "        preds_binary[preds_binary >= threshold] = 1\n",
    "        ncols = 3\n",
    "        fig, axes = plt.subplots(nrows = 1, ncols = ncols, figsize = (14,14))\n",
    "        axes[0].imshow(test_img.reshape(3,3), cmap = plt.cm.binary)\n",
    "        axes[0].set_title(\"original image\")\n",
    "        axes[1].imshow(preds, cmap = plt.cm.binary)\n",
    "        axes[1].set_title(\"predicted image\")\n",
    "        axes[2].imshow(preds_binary, cmap = plt.cm.binary)\n",
    "        axes[2].set_title(\"predicted image with binalization\")\n",
    "    \n",
    "    def predict_RGB(self, test_img, threshold):\n",
    "        preds = np.empty((4,4,3), dtype='float32')\n",
    "        preds_binary = np.empty((4,4,3), dtype='float32')\n",
    "        for dim in range(test_img.shape[2]):\n",
    "            preds[ : , : , dim] = self.model.predict(test_img[ : , : , dim].reshape(1,9)).reshape(4,4)\n",
    "            preds_binary[ : , : , dim] = preds[ : , : , dim].copy()\n",
    "        preds_binary[preds_binary < threshold] = 0\n",
    "        preds_binary[preds_binary >= threshold] = 1\n",
    "        ncols = 3\n",
    "        fig, axes = plt.subplots(nrows = 1, ncols = ncols, figsize = (14,14))\n",
    "        axes[0].imshow(test_img, cmap = plt.cm.binary)\n",
    "        axes[0].set_title(\"original image\")\n",
    "        axes[1].imshow(preds, cmap = plt.cm.binary)\n",
    "        axes[1].set_title(\"predicted image\")\n",
    "        axes[2].imshow(preds_binary, cmap = plt.cm.binary)\n",
    "        axes[2].set_title(\"predicted image with binalization\")\n",
    "        \n",
    "    def SR(self, input_img, thresold):\n",
    "        # Preprocessing area\n",
    "        x, y, z = input_img.shape # dimention x and y\n",
    "        pad_list = [] # padding count x = 0, y = 1\n",
    "        for i in [x, y]:\n",
    "            if i % 3 == 0:\n",
    "                pad_list.append(0)\n",
    "            elif i % 3 == 1:\n",
    "                pad_list.append(2)\n",
    "            else:\n",
    "                pad_list.append(1)\n",
    "        \n",
    "        temp = np.zeros((x + pad_list[0], y + pad_list[1], 3), dtype='float32') # new temporary array replaced with input_img\n",
    "        temp[ 0 : x, 0 : y , 0 : z] = input_img\n",
    "        input_img = temp\n",
    "        m,n = int(input_img.shape[0] / 3), int(input_img.shape[1] / 3)\n",
    "        output_img = np.empty((4 * m , 4 * n, 3), dtype='float32')\n",
    "        print(pad_list[0], pad_list[1])\n",
    "        \n",
    "        # SR area\n",
    "        for dim in [0,1,2]:\n",
    "            for i, j in iter.product(range(n), range(m)):\n",
    "                partial_img = input_img.copy()[ 3 * j : 3 * ( j + 1 ), 3 * i : 3 * ( i + 1), dim] \n",
    "                if np.all(partial_img < 0.1):\n",
    "                    partial_img = np.zeros(16)\n",
    "                else:\n",
    "                    partial_img = self.model.predict( partial_img.reshape(1,9) )\n",
    "                output_img[4 * j : 4 * (j + 1), 4 * i : 4 * ( i + 1), dim] = partial_img.reshape(4,4)\n",
    "        \n",
    "        max_val = output_img.max()\n",
    "        output_img /= max_val\n",
    "        output_img_binalized = output_img.copy()\n",
    "        output_img_binalized[output_img_binalized >= thresold] = 1\n",
    "        output_img_binalized[output_img_binalized < thresold] = 0\n",
    "\n",
    "        fig, axes = plt.subplots(1,3, figsize = (16,16))\n",
    "        axes[0].imshow(input_img, cmap = plt.cm.binary)\n",
    "        axes[0].set_title(\"input image\")\n",
    "        axes[1].imshow(output_img, cmap = plt.cm.binary)\n",
    "        axes[1].set_title(\"output image\")\n",
    "        axes[2].imshow(output_img_binalized, cmap = plt.cm.binary)\n",
    "        axes[2].set_title(\"output image with biinalization\")\n",
    "        \n",
    "        return output_img\n",
    "    \n",
    "    def SR2(self, file_path, mean = 0 , sd = 0.2):\n",
    "        # Resizing area\n",
    "        input_img = Image.open(file_path)\n",
    "        img_width, img_height = input_img.size\n",
    "        \n",
    "        ratio = 3 / 4\n",
    "        resized_width =  int(input_img.size[0] * ratio)\n",
    "        resized_height = int(input_img.size[1] * ratio)\n",
    "        resized_img = input_img.resize((resized_width, resized_height))\n",
    "        resized_img = np.array(resized_img, \"f\") / 255\n",
    "        resized_img = resized_img + np.random.normal(mean, sd, (resized_height, resized_width, 3))\n",
    "        input_img = np.array(input_img, 'f') / 255\n",
    "        \n",
    "        # Preprocessing area\n",
    "        x, y, z = resized_img.shape # dimention x and y\n",
    "        pad_list = [] # padding count x = 0, y = 1\n",
    "        for i in [x, y]:\n",
    "            if i % 3 == 0:\n",
    "                pad_list.append(0)\n",
    "            elif i % 3 == 1:\n",
    "                pad_list.append(2)\n",
    "            else:\n",
    "                pad_list.append(1)\n",
    "        \n",
    "        temp = np.zeros((x + pad_list[0], y + pad_list[1], 3), dtype='float32') # new temporary array replaced with input_img\n",
    "        temp[ 0 : x, 0 : y , 0 : z] = resized_img\n",
    "        resized_img = temp\n",
    "        m,n = int(resized_img.shape[0] / 3), int(resized_img.shape[1] / 3)\n",
    "        output_img = np.empty((4 * m , 4 * n, 3), dtype='float32')\n",
    "        print(pad_list[0], pad_list[1])\n",
    "        \n",
    "        # SR area\n",
    "        for dim in [0,1,2]:\n",
    "            for i, j in iter.product(range(n), range(m)):\n",
    "                partial_img = resized_img.copy()[ 3 * j : 3 * ( j + 1 ), 3 * i : 3 * ( i + 1), dim] \n",
    "                if np.all(partial_img < 0.1):\n",
    "                    partial_img = np.zeros(16)\n",
    "                else:\n",
    "                    partial_img = self.model.predict( partial_img.reshape(1,9) )\n",
    "                output_img[4 * j : 4 * (j + 1), 4 * i : 4 * ( i + 1), dim] = partial_img.reshape(4,4)\n",
    "        \n",
    "        max_val = output_img.max()\n",
    "        output_img /= max_val\n",
    "\n",
    "        fig, axes = plt.subplots(1,3, figsize = (15,15))\n",
    "        axes[0].imshow(input_img, cmap = plt.cm.binary)\n",
    "        axes[0].set_title(\"input image\")\n",
    "        axes[1].imshow(resized_img, cmap = plt.cm.binary)\n",
    "        axes[1].set_title(\"resized image\")\n",
    "        axes[2].imshow(output_img, cmap = plt.cm.binary)\n",
    "        axes[2].set_title(\"output image\")\n",
    "        return output_img"
   ]
  },
  {
   "cell_type": "code",
   "execution_count": 310,
   "metadata": {},
   "outputs": [],
   "source": [
    "autoencoder = AE(optimizer = tf.train.AdamOptimizer(learning_rate = 1e-3)  , loss = tf.keras.losses.mean_squared_error  )\n",
    "#autoencoder = AE(optimizer = tf.train.AdamOptimizer(learning_rate=5e-4) , loss = tf.keras.losses.binary_crossentropy)"
   ]
  },
  {
   "cell_type": "markdown",
   "metadata": {},
   "source": [
    "## モデル"
   ]
  },
  {
   "cell_type": "code",
   "execution_count": 311,
   "metadata": {},
   "outputs": [
    {
     "name": "stdout",
     "output_type": "stream",
     "text": [
      "_________________________________________________________________\n",
      "Layer (type)                 Output Shape              Param #   \n",
      "=================================================================\n",
      "dense_83 (Dense)             (None, 16)                160       \n",
      "_________________________________________________________________\n",
      "dropout_34 (Dropout)         (None, 16)                0         \n",
      "_________________________________________________________________\n",
      "dense_84 (Dense)             (None, 16)                272       \n",
      "_________________________________________________________________\n",
      "dropout_35 (Dropout)         (None, 16)                0         \n",
      "_________________________________________________________________\n",
      "dense_85 (Dense)             (None, 16)                272       \n",
      "_________________________________________________________________\n",
      "dense_86 (Dense)             (None, 16)                272       \n",
      "=================================================================\n",
      "Total params: 976\n",
      "Trainable params: 976\n",
      "Non-trainable params: 0\n",
      "_________________________________________________________________\n"
     ]
    }
   ],
   "source": [
    "autoencoder.model.summary()"
   ]
  },
  {
   "cell_type": "markdown",
   "metadata": {},
   "source": [
    "## 学習"
   ]
  },
  {
   "cell_type": "code",
   "execution_count": 313,
   "metadata": {},
   "outputs": [
    {
     "name": "stdout",
     "output_type": "stream",
     "text": [
      "Train on 65536 samples, validate on 65536 samples\n",
      "Epoch 1/20\n",
      "65536/65536 [==============================] - 1s 15us/step - loss: 0.1777 - acc: 0.0504 - val_loss: 0.1483 - val_acc: 0.0449\n",
      "Epoch 2/20\n",
      "65536/65536 [==============================] - 1s 15us/step - loss: 0.1774 - acc: 0.0509 - val_loss: 0.1482 - val_acc: 0.0481\n",
      "Epoch 3/20\n",
      "65536/65536 [==============================] - 1s 14us/step - loss: 0.1771 - acc: 0.0535 - val_loss: 0.1480 - val_acc: 0.0473\n",
      "Epoch 4/20\n",
      "65536/65536 [==============================] - 1s 14us/step - loss: 0.1770 - acc: 0.0523 - val_loss: 0.1476 - val_acc: 0.0461\n",
      "Epoch 5/20\n",
      "65536/65536 [==============================] - 1s 14us/step - loss: 0.1767 - acc: 0.0518 - val_loss: 0.1472 - val_acc: 0.0466\n",
      "Epoch 6/20\n",
      "65536/65536 [==============================] - 1s 14us/step - loss: 0.1763 - acc: 0.0506 - val_loss: 0.1470 - val_acc: 0.0424\n",
      "Epoch 7/20\n",
      "65536/65536 [==============================] - 1s 15us/step - loss: 0.1761 - acc: 0.0513 - val_loss: 0.1457 - val_acc: 0.0465\n",
      "Epoch 8/20\n",
      "65536/65536 [==============================] - 1s 14us/step - loss: 0.1755 - acc: 0.0508 - val_loss: 0.1445 - val_acc: 0.0449\n",
      "Epoch 9/20\n",
      "65536/65536 [==============================] - 1s 15us/step - loss: 0.1745 - acc: 0.0482 - val_loss: 0.1422 - val_acc: 0.0443\n",
      "Epoch 10/20\n",
      "65536/65536 [==============================] - 1s 15us/step - loss: 0.1738 - acc: 0.0495 - val_loss: 0.1406 - val_acc: 0.0489\n",
      "Epoch 11/20\n",
      "65536/65536 [==============================] - 1s 14us/step - loss: 0.1731 - acc: 0.0490 - val_loss: 0.1393 - val_acc: 0.0433\n",
      "Epoch 12/20\n",
      "65536/65536 [==============================] - 1s 14us/step - loss: 0.1730 - acc: 0.0509 - val_loss: 0.1385 - val_acc: 0.0461\n",
      "Epoch 13/20\n",
      "65536/65536 [==============================] - 1s 15us/step - loss: 0.1725 - acc: 0.0522 - val_loss: 0.1378 - val_acc: 0.0444\n",
      "Epoch 14/20\n",
      "65536/65536 [==============================] - 1s 17us/step - loss: 0.1721 - acc: 0.0540 - val_loss: 0.1377 - val_acc: 0.0466\n",
      "Epoch 15/20\n",
      "65536/65536 [==============================] - 1s 16us/step - loss: 0.1719 - acc: 0.0543 - val_loss: 0.1371 - val_acc: 0.0434\n",
      "Epoch 16/20\n",
      "65536/65536 [==============================] - 1s 14us/step - loss: 0.1715 - acc: 0.0552 - val_loss: 0.1367 - val_acc: 0.0507\n",
      "Epoch 17/20\n",
      "65536/65536 [==============================] - 1s 14us/step - loss: 0.1715 - acc: 0.0546 - val_loss: 0.1362 - val_acc: 0.0504\n",
      "Epoch 18/20\n",
      "65536/65536 [==============================] - 1s 14us/step - loss: 0.1709 - acc: 0.0551 - val_loss: 0.1356 - val_acc: 0.0504\n",
      "Epoch 19/20\n",
      "65536/65536 [==============================] - 1s 14us/step - loss: 0.1707 - acc: 0.0551 - val_loss: 0.1355 - val_acc: 0.0526\n",
      "Epoch 20/20\n",
      "65536/65536 [==============================] - 1s 14us/step - loss: 0.1705 - acc: 0.0552 - val_loss: 0.1345 - val_acc: 0.0499\n"
     ]
    }
   ],
   "source": [
    "autoencoder.fit(epochs = 20, batch_size=512)"
   ]
  },
  {
   "cell_type": "markdown",
   "metadata": {},
   "source": [
    "## 予測\n",
    "### モノクロ版"
   ]
  },
  {
   "cell_type": "code",
   "execution_count": 297,
   "metadata": {},
   "outputs": [
    {
     "data": {
      "image/png": "[encoded data removed]",
      "text/plain": [
       "<Figure size 1008x1008 with 3 Axes>"
      ]
     },
     "metadata": {
      "needs_background": "light"
     },
     "output_type": "display_data"
    },
    {
     "data": {
      "image/png": "[encoded data removed]",
      "text/plain": [
       "<Figure size 1008x1008 with 3 Axes>"
      ]
     },
     "metadata": {
      "needs_background": "light"
     },
     "output_type": "display_data"
    },
    {
     "data": {
      "image/png": "[encoded data removed]",
      "text/plain": [
       "<Figure size 1008x1008 with 3 Axes>"
      ]
     },
     "metadata": {
      "needs_background": "light"
     },
     "output_type": "display_data"
    }
   ],
   "source": [
    "for i in range(3):\n",
    "    test_img = np.random.randint(0, 2, size=(1,9))\n",
    "    threshold = 0.5\n",
    "    autoencoder.predict(test_img, threshold)"
   ]
  },
  {
   "cell_type": "code",
   "execution_count": 301,
   "metadata": {},
   "outputs": [
    {
     "data": {
      "image/png": "[encoded data removed]",
      "text/plain": [
       "<Figure size 1008x1008 with 3 Axes>"
      ]
     },
     "metadata": {
      "needs_background": "light"
     },
     "output_type": "display_data"
    }
   ],
   "source": [
    "test_img = np.array([[1,1,1,1,0,1,1,1,1]])\n",
    "threshold = 0.5\n",
    "autoencoder.predict(test_img, threshold)"
   ]
  },
  {
   "cell_type": "code",
   "execution_count": 299,
   "metadata": {},
   "outputs": [
    {
     "name": "stdout",
     "output_type": "stream",
     "text": [
      "[[0.40910628 0.99294007 0.9999397  0.9657379 ]\n",
      " [0.99355835 0.5169834  0.7360484  0.99177295]\n",
      " [0.98807526 0.2762763  0.22839673 0.983613  ]\n",
      " [0.19758557 0.97264093 0.99982005 0.8733156 ]]\n",
      "4.9353783807609615\n"
     ]
    },
    {
     "data": {
      "text/plain": [
       "<Figure size 432x432 with 0 Axes>"
      ]
     },
     "execution_count": 299,
     "metadata": {},
     "output_type": "execute_result"
    },
    {
     "data": {
      "image/png": "[encoded data removed]",
      "text/plain": [
       "<Figure size 432x288 with 2 Axes>"
      ]
     },
     "metadata": {
      "needs_background": "light"
     },
     "output_type": "display_data"
    },
    {
     "data": {
      "text/plain": [
       "<Figure size 432x432 with 0 Axes>"
      ]
     },
     "metadata": {},
     "output_type": "display_data"
    }
   ],
   "source": [
    "#test_img = np.array([[0.75, 0.25, 0.25, 0.75, 0.25, 0.25, 0.75, 0.25, 0.25]])\n",
    "predict_img = autoencoder.model.predict(test_img)\n",
    "\n",
    "test_img = test_img.reshape(3,3)\n",
    "predict_img = predict_img.reshape(4,4)\n",
    "answer = np.array([1,0.5,0,0.5,1,0.5,0,0.5,1,0.5,0,0.5,1,0.5,0,0.5]).reshape(4,4)\n",
    "print(predict_img)\n",
    "\n",
    "print( np.sum((answer - predict_img) ** 2)  )\n",
    "\n",
    "img = predict_img\n",
    "\n",
    "plt.colorbar(plt.imshow(img, cmap = plt.cm.binary))\n",
    "plt.savefig(\"p_matrix_2_.pdf\")\n",
    "plt.figure(figsize = (6,6))"
   ]
  },
  {
   "cell_type": "code",
   "execution_count": 248,
   "metadata": {},
   "outputs": [],
   "source": [
    "plt.cm.binary?"
   ]
  },
  {
   "cell_type": "code",
   "execution_count": null,
   "metadata": {},
   "outputs": [],
   "source": []
  },
  {
   "cell_type": "markdown",
   "metadata": {},
   "source": [
    "### RGB版"
   ]
  },
  {
   "cell_type": "code",
   "execution_count": 133,
   "metadata": {},
   "outputs": [
    {
     "name": "stderr",
     "output_type": "stream",
     "text": [
      "Clipping input data to the valid range for imshow with RGB data ([0..1] for floats or [0..255] for integers).\n",
      "Clipping input data to the valid range for imshow with RGB data ([0..1] for floats or [0..255] for integers).\n",
      "Clipping input data to the valid range for imshow with RGB data ([0..1] for floats or [0..255] for integers).\n"
     ]
    },
    {
     "data": {
      "image/png": "[encoded data removed]",
      "text/plain": [
       "<Figure size 1008x1008 with 3 Axes>"
      ]
     },
     "metadata": {
      "needs_background": "light"
     },
     "output_type": "display_data"
    },
    {
     "data": {
      "image/png": "[encoded data removed]",
      "text/plain": [
       "<Figure size 1008x1008 with 3 Axes>"
      ]
     },
     "metadata": {
      "needs_background": "light"
     },
     "output_type": "display_data"
    },
    {
     "data": {
      "image/png": "[encoded data removed]",
      "text/plain": [
       "<Figure size 1008x1008 with 3 Axes>"
      ]
     },
     "metadata": {
      "needs_background": "light"
     },
     "output_type": "display_data"
    }
   ],
   "source": [
    "for i in range(3):\n",
    "    test_img = np.random.rand(3,3,3)\n",
    "    threshold = 0.5\n",
    "    autoencoder.predict_RGB(test_img, threshold)"
   ]
  },
  {
   "cell_type": "markdown",
   "metadata": {},
   "source": [
    "## より大きな画像で超解像を行う\n",
    "\n",
    "### 仕様\n",
    "- `input_img` \n",
    "    - (3 x n, 3 x m) dimention\n",
    "    - from 0 to 1 \n",
    "    \n",
    "- `output_img`\n",
    "    - (4 x n, 4 x m) dimention\n",
    "    - 0 or 1 binalized\n",
    "    \n",
    "- `thresold`"
   ]
  },
  {
   "cell_type": "code",
   "execution_count": 134,
   "metadata": {},
   "outputs": [
    {
     "data": {
      "text/plain": [
       "Text(0.5, 1.0, 'output image with biinalization')"
      ]
     },
     "execution_count": 134,
     "metadata": {},
     "output_type": "execute_result"
    },
    {
     "data": {
      "image/png": "[encoded data removed]",
      "text/plain": [
       "<Figure size 864x864 with 3 Axes>"
      ]
     },
     "metadata": {
      "needs_background": "light"
     },
     "output_type": "display_data"
    }
   ],
   "source": [
    "# n = 4\n",
    "# m = 4\n",
    "thresold = 0.5\n",
    "input_img = np.random.randint(0, 10, (18,18), dtype='int8') / 10\n",
    "x, y = input_img.shape\n",
    "n, m = int( x / 3 ), int( y / 3 )\n",
    "output_img = np.empty((4 * n , 4 * m), dtype='float64')\n",
    "\n",
    "for i, j in iter.product(range(n), range(m)):\n",
    "    partial_img = input_img.copy()[ 3 * j : 3 * (j + 1), 3 * i : 3 * ( i + 1)] \n",
    "    partial_img = autoencoder.model.predict(partial_img.reshape(1,9))\n",
    "    output_img[4 * j : 4 * (j + 1), 4 * i : 4 * ( i + 1)] = partial_img.reshape(4,4)\n",
    "\n",
    "output_img_binalized = output_img.copy()\n",
    "output_img_binalized[output_img_binalized >= thresold] = 1\n",
    "output_img_binalized[output_img_binalized < thresold] = 0\n",
    "\n",
    "fig, axes = plt.subplots(1,3, figsize = (12,12))\n",
    "axes[0].imshow(input_img, cmap = plt.cm.binary)\n",
    "axes[0].set_title(\"input image\")\n",
    "axes[1].imshow(output_img, cmap = plt.cm.binary)\n",
    "axes[1].set_title(\"output image\")\n",
    "axes[2].imshow(output_img_binalized, cmap = plt.cm.binary)\n",
    "axes[2].set_title(\"output image with biinalization\")"
   ]
  },
  {
   "cell_type": "markdown",
   "metadata": {},
   "source": [
    "## メソッド版\n",
    "- `img1.jpeg` : 理科大マーク\n",
    "- `img2.jpg` : 激重\n",
    "- `img3.jpg` : 葛飾\n",
    "- `img4.jpg` : ロックマン"
   ]
  },
  {
   "cell_type": "code",
   "execution_count": null,
   "metadata": {},
   "outputs": [],
   "source": [
    "input_img = np.array(Image.open(\"img/img3.jpg\"), \"f\") / 255\n",
    "output_img = autoencoder.SR(input_img, 0.5)\n",
    "img = Image.fromarray(np.uint8(255 * output_img))\n",
    "img.save('img/img4_a(1)_adam_mse_4.jpg', quality=95)"
   ]
  },
  {
   "cell_type": "markdown",
   "metadata": {},
   "source": [
    "## 画像劣化と超解像\n",
    "\n",
    "左から順に\n",
    "- `input_image`\n",
    "- `Pillowによりサイズダウンされた画像` \n",
    "- `サイズダウンされた画像の超解像画像`"
   ]
  },
  {
   "cell_type": "code",
   "execution_count": null,
   "metadata": {},
   "outputs": [],
   "source": [
    "file_path = \"img/img4.jpg\"\n",
    "input_img = Image.open(file_path)\n",
    "\n",
    "img_width, img_height = input_img.size\n",
    "ratio = 3 / 4\n",
    "resized_width =  int(input_img.size[0] * ratio)\n",
    "resized_height = int(input_img.size[1] * ratio)\n",
    "\n",
    "resized_img = input_img.resize((resized_width, resized_height))\n",
    "resized_img = np.array(resized_img, \"f\") / 255\n",
    "\n",
    "\n",
    "output_img = autoencoder.SR(resized_img, 0.5)\n"
   ]
  },
  {
   "cell_type": "code",
   "execution_count": null,
   "metadata": {},
   "outputs": [],
   "source": [
    "file_path = \"img/img3.jpg\"\n",
    "autoencoder.SR2(file_path, mean = 0, sd = 0)"
   ]
  },
  {
   "cell_type": "markdown",
   "metadata": {},
   "source": [
    "## ベイズあり"
   ]
  },
  {
   "cell_type": "code",
   "execution_count": 145,
   "metadata": {},
   "outputs": [
    {
     "name": "stdout",
     "output_type": "stream",
     "text": [
      "[[ 0.45697296  0.46111524  0.58606124  0.5691823 ]\n",
      " [ 0.50051117  0.6102326   0.4500168   0.39410502]\n",
      " [ 0.60444987  0.542842    0.56766725  0.5999821 ]\n",
      " [ 0.5264662  -0.          0.7197065   0.75124425]] [[0. 0. 1. 1.]\n",
      " [1. 1. 0. 0.]\n",
      " [1. 1. 1. 1.]\n",
      " [1. 0. 1. 1.]]\n",
      "[[0. 1. 1. 1. 1. 0. 0. 0. 0. 1. 1. 1. 1. 1. 1. 1.]\n",
      " [1. 1. 1. 1. 0. 0. 0. 0. 1. 1. 1. 1. 0. 1. 1. 1.]]\n",
      "2\n",
      "2\n",
      "2\n",
      "2\n",
      "2\n",
      "2\n",
      "2\n",
      "2\n",
      "2\n",
      "2\n",
      "2\n",
      "2\n",
      "2\n",
      "2\n",
      "2\n",
      "2\n"
     ]
    },
    {
     "data": {
      "image/png": "[encoded data removed]",
      "text/plain": [
       "<Figure size 1152x1152 with 5 Axes>"
      ]
     },
     "metadata": {
      "needs_background": "light"
     },
     "output_type": "display_data"
    }
   ],
   "source": [
    "test_img = np.array([[1,1,1,0.5,0.5,0.5,0.5,0.5,0.5]])\n",
    "test_img = np.array([[0.5, 0.5,0.5,0.5,0.5,0.5,0.75,1,1]])\n",
    "autoencoder.bayes(test_img)"
   ]
  },
  {
   "cell_type": "markdown",
   "metadata": {},
   "source": [
    "### ゴミ"
   ]
  },
  {
   "cell_type": "code",
   "execution_count": null,
   "metadata": {},
   "outputs": [],
   "source": [
    "output_img = autoencoder.SR(output_img, 0.5)\n",
    "img = Image.fromarray(np.uint8(255 * output_img))\n",
    "img.save('img/img3_a(0_1)_twice.jpg', quality=95)"
   ]
  },
  {
   "cell_type": "markdown",
   "metadata": {},
   "source": [
    "## ベイズルールによる結果(Duplicated)"
   ]
  },
  {
   "cell_type": "code",
   "execution_count": null,
   "metadata": {},
   "outputs": [],
   "source": [
    "index_when_given_q = np.all(autoencoder.q_matrix == test_img, axis = 1)\n",
    "p_given_q = autoencoder.p_matrix[index_when_given_q]"
   ]
  },
  {
   "cell_type": "code",
   "execution_count": null,
   "metadata": {},
   "outputs": [],
   "source": [
    "n = 16\n",
    "for i in range(n):\n",
    "    ax = plt.subplot(4, 4, i+1)\n",
    "    plt.hist([p_given_q[j][i] for j in range(p_given_q.shape[0])], bins = [0,1,2])"
   ]
  },
  {
   "cell_type": "code",
   "execution_count": null,
   "metadata": {},
   "outputs": [],
   "source": [
    "n = 16\n",
    "bayes_image = np.empty(n)\n",
    "for i in range(n):\n",
    "    is_one_counter = 0\n",
    "    target_list = [p_given_q[j][i] for j in range(p_given_q.shape[0])]\n",
    "    total_length = len(target_list)\n",
    "    \n",
    "    for j in range(total_length):\n",
    "        if target_list[j] == 1:\n",
    "            is_one_counter += 1\n",
    "    prob = is_one_counter / total_length\n",
    "    bayes_image[i] = prob"
   ]
  },
  {
   "cell_type": "code",
   "execution_count": null,
   "metadata": {},
   "outputs": [],
   "source": [
    "bayes_image"
   ]
  },
  {
   "cell_type": "code",
   "execution_count": null,
   "metadata": {},
   "outputs": [],
   "source": [
    "plt.imshow(bayes_image.reshape(4,4), cmap = plt.cm.binary)"
   ]
  },
  {
   "cell_type": "code",
   "execution_count": null,
   "metadata": {},
   "outputs": [],
   "source": [
    "test = np.random.randint(0,2,(6,4))\n",
    "x, y = test.shape\n",
    "xy = 0 #count x = 0, y = 1\n",
    "pad_list = []\n",
    "for i in [x, y]:\n",
    "    if i % 3 == 0:\n",
    "        pad_list.append(0)\n",
    "    elif i % 3 == 1:\n",
    "        pad_list.append(2)\n",
    "    else:\n",
    "        pad_list.append(1)\n",
    "    xy += 1\n",
    "\n",
    "test_ = np.zeros((x + pad_list[0], y + pad_list[1]))\n",
    "print(test_.shape)"
   ]
  },
  {
   "cell_type": "code",
   "execution_count": null,
   "metadata": {},
   "outputs": [],
   "source": [
    "np.arange(6).reshape(1,2,3)"
   ]
  },
  {
   "cell_type": "code",
   "execution_count": null,
   "metadata": {},
   "outputs": [],
   "source": [
    "np.array(Image.open(\"img/img4.jpg\"), \"f\").shape"
   ]
  },
  {
   "cell_type": "code",
   "execution_count": null,
   "metadata": {},
   "outputs": [],
   "source": [
    "class AE():\n",
    "    def __init__(self, optimizer='rmsprop', loss='mean_squared_error', input_data_path=\"../4x4matrix.csv\"):\n",
    "        self.p_matrix = np.load(\"4x4matrix.npz\")[\"p_matrix\"]\n",
    "        self.q_matrix = np.load(\"4x4matrix.npz\")[\"q_matrix\"]\n",
    "        self.optimizer = optimizer\n",
    "        self.model = Sequential()\n",
    "        self.model.add( Dense(16, activation = 'relu', input_dim = 9) )\n",
    "        #self.model.add( Dense(16, activation = 'relu') )\n",
    "        self.model.add( Dense(16, activation = 'relu') )\n",
    "        self.model.add( Dense(16, activation = 'relu') )\n",
    "        #self.model.add( Dense(16, activation = keras.layers.ReLU(max_value=1, negative_slope=0, threshold = 0)) )\n",
    "        #self.model.add( Dense(16, activation = keras.layers.ReLU(max_value=1, negative_slope=0, threshold = 0)) )\n",
    "        self.model.compile(optimizer = optimizer,\n",
    "                           loss = loss,\n",
    "                           metrics = ['accuracy'])\n",
    "        \n",
    "    def fit(self, epochs='4', batch_size='256'):\n",
    "        self.model.fit(self.q_matrix, self.p_matrix,\n",
    "                      epochs = epochs,\n",
    "                      batch_size = batch_size,\n",
    "                      validation_data = (self.q_matrix, self.p_matrix))\n",
    "    \n",
    "    def predict(self, test_img, threshold):\n",
    "        preds = self.model.predict(test_img).reshape(4,4)\n",
    "        preds_binary = preds.copy()\n",
    "        preds_binary[preds_binary < threshold] = 0\n",
    "        preds_binary[preds_binary >= threshold] = 1\n",
    "        print(preds, preds_binary)\n",
    "        \n",
    "        if test_img.dtype == 'int64':\n",
    "            ncols = 5\n",
    "            fig, axes = plt.subplots(nrows = 1, ncols = ncols, figsize = (14,14))\n",
    "            bayes_image = np.empty(16)\n",
    "            index_when_given_q = np.all(self.q_matrix == test_img.reshape(9,), axis = 1)\n",
    "            p_given_q = self.p_matrix[index_when_given_q]\n",
    "            print(p_given_q)\n",
    "            for col in range(16):\n",
    "                is_one_counter = 0\n",
    "                target_list = [p_given_q[row][col] for row in range(p_given_q.shape[0])]\n",
    "                total_length = len(target_list)\n",
    "    \n",
    "                for j in range(total_length):\n",
    "                    if target_list[j] == 1:\n",
    "                        is_one_counter += 1\n",
    "                prob = is_one_counter / total_length\n",
    "                bayes_image[i] = prob\n",
    "            axes[3].imshow(bayes_image.reshape(4,4), cmap = plt.cm.binary)\n",
    "            axes[3].set_title(\"p(P|Q) image based on bayes\")\n",
    "            bayes_image[ bayes_image < thresold ] = 0\n",
    "            bayes_image[ bayes_image >= thresold ] = 1\n",
    "            axes[4].imshow(bayes_image.reshape(4,4), cmap = plt.cm.binary)\n",
    "            axes[4].set_title(\"p(P|Q) image based on bayes with binalization\")\n",
    "            \n",
    "        elif test_img.dtype == 'float64':\n",
    "            ncols = 3\n",
    "            fig, axes = plt.subplots(nrows = 1, ncols = ncols, figsize = (14,14))\n",
    "        \n",
    "\n",
    "        axes[0].imshow(test_img.reshape(3,3), cmap = plt.cm.binary)\n",
    "        axes[0].set_title(\"original image\")\n",
    "        axes[1].imshow(preds, cmap = plt.cm.binary)\n",
    "        axes[1].set_title(\"predicted image\")\n",
    "        axes[2].imshow(preds_binary, cmap = plt.cm.binary)\n",
    "        axes[2].set_title(\"predicted image with binalization\")\n",
    "        \n",
    "    def SR(self, input_img, thresold):\n",
    "        # Preprocessing area\n",
    "        x, y, z = input_img.shape # dimention x and y\n",
    "        pad_list = [] # padding count x = 0, y = 1\n",
    "        for i in [x, y]:\n",
    "            if i % 3 == 0:\n",
    "                pad_list.append(0)\n",
    "            elif i % 3 == 1:\n",
    "                pad_list.append(2)\n",
    "            else:\n",
    "                pad_list.append(1)\n",
    "        \n",
    "        temp = np.zeros((x + pad_list[0], y + pad_list[1], 3), dtype='float32') # new temporary array replaced with input_img\n",
    "        temp[ 0 : x, 0 : y , 0 : z] = input_img\n",
    "        input_img = temp\n",
    "        m,n = int(input_img.shape[0] / 3), int(input_img.shape[1] / 3)\n",
    "        output_img = np.empty((4 * m , 4 * n, 3), dtype='float32')\n",
    "        print(pad_list[0], pad_list[1])\n",
    "        \n",
    "        # SR area\n",
    "        for dim in [0,1,2]:\n",
    "            for i, j in iter.product(range(n), range(m)):\n",
    "                partial_img = input_img.copy()[ 3 * j : 3 * ( j + 1 ), 3 * i : 3 * ( i + 1), dim] \n",
    "                if np.all(partial_img < 0.1):\n",
    "                    partial_img = np.zeros(16)\n",
    "                else:\n",
    "                    partial_img = self.model.predict( partial_img.reshape(1,9) )\n",
    "                output_img[4 * j : 4 * (j + 1), 4 * i : 4 * ( i + 1), dim] = partial_img.reshape(4,4)\n",
    "        \n",
    "        max_val = output_img.max()\n",
    "        output_img /= max_val\n",
    "        output_img_binalized = output_img.copy()\n",
    "        output_img_binalized[output_img_binalized >= thresold] = 1\n",
    "        output_img_binalized[output_img_binalized < thresold] = 0\n",
    "\n",
    "        fig, axes = plt.subplots(1,3, figsize = (12,12))\n",
    "        axes[0].imshow(input_img, cmap = plt.cm.binary)\n",
    "        axes[0].set_title(\"input image\")\n",
    "        axes[1].imshow(output_img, cmap = plt.cm.binary)\n",
    "        axes[1].set_title(\"output image\")\n",
    "        axes[2].imshow(output_img_binalized, cmap = plt.cm.binary)\n",
    "        axes[2].set_title(\"output image with biinalization\")\n",
    "        \n",
    "        return output_img"
   ]
  },
  {
   "cell_type": "code",
   "execution_count": null,
   "metadata": {},
   "outputs": [],
   "source": [
    "np.random.normal(1,1,(3,3))"
   ]
  },
  {
   "cell_type": "markdown",
   "metadata": {},
   "source": [
    "## CNN版(開発途中)\n",
    "Generatorをいじる必要あり\n",
    "\n",
    "`(batch, height, width, channel)`"
   ]
  },
  {
   "cell_type": "code",
   "execution_count": null,
   "metadata": {},
   "outputs": [],
   "source": [
    "class AE():\n",
    "    def __init__(self, optimizer='rmsprop', loss='mean_squared_error', input_data_path=\"../4x4matrix.csv\"):\n",
    "        self.p_matrix = np.load(\"4x4matrix_cnn.npz\")[\"p_matrix\"]\n",
    "        self.q_matrix = np.load(\"4x4matrix_cnn.npz\")[\"q_matrix\"]\n",
    "        self.optimizer = optimizer\n",
    "        self.model = Sequential()\n",
    "        self.model.add(Conv2D(8, kernel_size=(3, 3),padding ='same', activation='relu', input_shape=(3,3,1)))\n",
    "        self.model.add(UpSampling2D((4/3,4/3)))\n",
    "        self.model.add(Conv2D(1, kernel_size=(3, 3),padding ='same', activation='relu'))\n",
    "        self.model.add(Conv2D(1, kernel_size=(3, 3),padding ='same', activation='relu'))\n",
    "        self.model.compile(optimizer = optimizer,\n",
    "                           loss = loss,\n",
    "                           metrics = ['accuracy'])\n",
    "        plot_model(self.model, to_file='./model_cnn.png')\n",
    "    def fit(self, epochs='4', batch_size='256'):\n",
    "        self.model.fit(self.q_matrix, self.p_matrix,\n",
    "                      epochs = epochs,\n",
    "                      batch_size = batch_size)\n",
    "    \n",
    "    def predict(self, test_img, threshold):\n",
    "        preds = self.model.predict(test_img).reshape(4,4)\n",
    "        preds_binary = preds.copy()\n",
    "        preds_binary[preds_binary < threshold] = 0\n",
    "        preds_binary[preds_binary >= threshold] = 1\n",
    "        ncols = 3\n",
    "        fig, axes = plt.subplots(nrows = 1, ncols = ncols, figsize = (14,14))\n",
    "        axes[0].imshow(test_img.reshape(3,3), cmap = plt.cm.binary)\n",
    "        axes[0].set_title(\"original image\")\n",
    "        axes[1].imshow(preds, cmap = plt.cm.binary)\n",
    "        axes[1].set_title(\"predicted image\")\n",
    "        axes[2].imshow(preds_binary, cmap = plt.cm.binary)\n",
    "        axes[2].set_title(\"predicted image with binalization\")\n",
    "    \n",
    "    def predict_RGB(self, test_img, threshold):\n",
    "        preds = np.empty((4,4,3), dtype='float32')\n",
    "        preds_binary = np.empty((4,4,3), dtype='float32')\n",
    "        for dim in range(test_img.shape[2]):\n",
    "            preds[ : , : , dim] = self.model.predict(test_img[ : , : , dim].reshape(1,9)).reshape(4,4)\n",
    "            preds_binary[ : , : , dim] = preds[ : , : , dim].copy()\n",
    "        preds_binary[preds_binary < threshold] = 0\n",
    "        preds_binary[preds_binary >= threshold] = 1\n",
    "        ncols = 3\n",
    "        fig, axes = plt.subplots(nrows = 1, ncols = ncols, figsize = (14,14))\n",
    "        axes[0].imshow(test_img, cmap = plt.cm.binary)\n",
    "        axes[0].set_title(\"original image\")\n",
    "        axes[1].imshow(preds, cmap = plt.cm.binary)\n",
    "        axes[1].set_title(\"predicted image\")\n",
    "        axes[2].imshow(preds_binary, cmap = plt.cm.binary)\n",
    "        axes[2].set_title(\"predicted image with binalization\")\n",
    "        \n",
    "    def SR(self, input_img, thresold):\n",
    "        # Preprocessing area\n",
    "        x, y, z = input_img.shape # dimention x and y\n",
    "        pad_list = [] # padding count x = 0, y = 1\n",
    "        for i in [x, y]:\n",
    "            if i % 3 == 0:\n",
    "                pad_list.append(0)\n",
    "            elif i % 3 == 1:\n",
    "                pad_list.append(2)\n",
    "            else:\n",
    "                pad_list.append(1)\n",
    "        \n",
    "        temp = np.zeros((x + pad_list[0], y + pad_list[1], 3), dtype='float32') # new temporary array replaced with input_img\n",
    "        temp[ 0 : x, 0 : y , 0 : z] = input_img\n",
    "        input_img = temp\n",
    "        m,n = int(input_img.shape[0] / 3), int(input_img.shape[1] / 3)\n",
    "        output_img = np.empty((4 * m , 4 * n, 3), dtype='float32')\n",
    "        print(pad_list[0], pad_list[1])\n",
    "        \n",
    "        # SR area\n",
    "        for dim in [0,1,2]:\n",
    "            for i, j in iter.product(range(n), range(m)):\n",
    "                partial_img = input_img.copy()[ 3 * j : 3 * ( j + 1 ), 3 * i : 3 * ( i + 1), dim] \n",
    "                if np.all(partial_img < 0.1):\n",
    "                    partial_img = np.zeros(16)\n",
    "                else:\n",
    "                    partial_img = self.model.predict( partial_img.reshape(1,9) )\n",
    "                output_img[4 * j : 4 * (j + 1), 4 * i : 4 * ( i + 1), dim] = partial_img.reshape(4,4)\n",
    "        \n",
    "        max_val = output_img.max()\n",
    "        output_img /= max_val\n",
    "        output_img_binalized = output_img.copy()\n",
    "        output_img_binalized[output_img_binalized >= thresold] = 1\n",
    "        output_img_binalized[output_img_binalized < thresold] = 0\n",
    "\n",
    "        fig, axes = plt.subplots(1,3, figsize = (12,12))\n",
    "        axes[0].imshow(input_img, cmap = plt.cm.binary)\n",
    "        axes[0].set_title(\"input image\")\n",
    "        axes[1].imshow(output_img, cmap = plt.cm.binary)\n",
    "        axes[1].set_title(\"output image\")\n",
    "        axes[2].imshow(output_img_binalized, cmap = plt.cm.binary)\n",
    "        axes[2].set_title(\"output image with biinalization\")\n",
    "        \n",
    "        return output_img\n",
    "    \n"
   ]
  }
 ],
 "metadata": {
  "kernelspec": {
   "display_name": "Python 3",
   "language": "python",
   "name": "python3"
  },
  "language_info": {
   "codemirror_mode": {
    "name": "ipython",
    "version": 3
   },
   "file_extension": ".py",
   "mimetype": "text/x-python",
   "name": "python",
   "nbconvert_exporter": "python",
   "pygments_lexer": "ipython3",
   "version": "3.6.6"
  }
 },
 "nbformat": 4,
 "nbformat_minor": 2
}
