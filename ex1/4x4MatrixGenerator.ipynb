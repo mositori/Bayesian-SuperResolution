{
 "cells": [
  {
   "cell_type": "code",
   "execution_count": 2,
   "metadata": {},
   "outputs": [],
   "source": [
    "import numpy as np\n",
    "import pandas as pd\n",
    "import matplotlib.pyplot as plt\n",
    "import itertools as iter\n",
    "from progressbar import ProgressBar"
   ]
  },
  {
   "cell_type": "markdown",
   "metadata": {},
   "source": [
    "## Generator\n",
    "- `p_comb` : P行列のパターン\n",
    "- `a_comb` : フィルター値のパターン\n",
    "- `binalize` : 計算結果を二値化するかどうか\n",
    "- `threshold` : 二値化するときの閾値"
   ]
  },
  {
   "cell_type": "code",
   "execution_count": 48,
   "metadata": {},
   "outputs": [
    {
     "name": "stderr",
     "output_type": "stream",
     "text": [
      "/ |  #                                            | 22136 Elapsed Time: 0:00:00"
     ]
    },
    {
     "name": "stdout",
     "output_type": "stream",
     "text": [
      "1048576\n"
     ]
    },
    {
     "name": "stderr",
     "output_type": "stream",
     "text": [
      "/ |#                                            | 1046509 Elapsed Time: 0:00:09"
     ]
    },
    {
     "name": "stdout",
     "output_type": "stream",
     "text": [
      "CPU times: user 10.6 s, sys: 545 ms, total: 11.1 s\n",
      "Wall time: 10.8 s\n"
     ]
    },
    {
     "data": {
      "image/png": "[encoded data removed]",
      "text/plain": [
       "<Figure size 720x288 with 2 Axes>"
      ]
     },
     "metadata": {
      "needs_background": "light"
     },
     "output_type": "display_data"
    }
   ],
   "source": [
    "%%time\n",
    "## INPUT\n",
    "p_comb = [0, 1]\n",
    "a_comb = [0, 1]\n",
    "binalize = False\n",
    "threshold = 0.5 #where val > threshold, then val = 1\n",
    "\n",
    "\n",
    "total_comb = len( p_comb ) ** 16 * len( a_comb ) ** 4\n",
    "print(total_comb)\n",
    "p_matrix = np.empty((total_comb, 16), dtype='float16')\n",
    "q_matrix = np.empty((total_comb, 9), dtype='float16')\n",
    "count = 0\n",
    "p = ProgressBar(total_comb)\n",
    "\n",
    "for p_11, p_12, p_13, p_14, p_21, p_22, p_23, p_24, p_31, p_32, p_33, p_34, p_41, p_42, p_43, p_44 in iter.product(p_comb, p_comb, p_comb, p_comb, p_comb, p_comb, p_comb, p_comb, p_comb, p_comb, p_comb, p_comb, p_comb, p_comb, p_comb, p_comb):\n",
    "    for a_11, a_12, a_21, a_22 in iter.product(a_comb, a_comb, a_comb, a_comb):\n",
    "        q_matrix[count] = np.array([p_11 * a_11 + p_12 * a_12 + p_21 * a_21 + p_22 * a_22,\n",
    "                                    p_12 * a_11 + p_13 * a_12 + p_22 * a_21 + p_23 * a_22,\n",
    "                                    p_13 * a_11 + p_14 * a_12 + p_23 * a_21 + p_24 * a_22, \n",
    "                                    p_21 * a_11 + p_22 * a_12 + p_31 * a_21 + p_32 * a_22,\n",
    "                                    p_22 * a_11 + p_23 * a_12 + p_32 * a_21 + p_33 * a_22,\n",
    "                                    p_23 * a_11 + p_24 * a_12 + p_33 * a_21 + p_34 * a_22,\n",
    "                                    p_31 * a_11 + p_32 * a_12 + p_41 * a_21 + p_42 * a_22,\n",
    "                                    p_32 * a_11 + p_33 * a_12 + p_42 * a_21 + p_43 * a_22,\n",
    "                                    p_33 * a_11 + p_34 * a_12 + p_43 * a_21 + p_44 * a_22\n",
    "                                   ],\n",
    "                                  dtype=\"float16\")\n",
    "        p_matrix[count] = np.array([p_11, p_12, p_13, p_14, p_21, p_22, p_23, p_24, p_31, p_32, p_33, p_34, p_41, p_42, p_43, p_44])\n",
    "        count += 1\n",
    "        p.update(count + 1)\n",
    "q_matrix /= 4\n",
    "\n",
    "## PLOTTING\n",
    "fig, axes = plt.subplots(1,2, figsize = (10,4))\n",
    "hist_data = [q_matrix[i][1] for i in range(q_matrix.shape[0])]\n",
    "axes[0].hist(hist_data)\n",
    "if binalize == True:\n",
    "    q_matrix[q_matrix < threshold] = 0\n",
    "    q_matrix[q_matrix >= threshold] = 1\n",
    "    hist_data_binalize = [q_matrix[i][1] for i in range(q_matrix.shape[0])]\n",
    "    axes[1].hist(hist_data_binalize)\n",
    "    \n",
    "np.savez_compressed('4x4matrix', p_matrix = p_matrix, q_matrix = q_matrix)"
   ]
  },
  {
   "cell_type": "markdown",
   "metadata": {},
   "source": [
    "## Generator with stochastic A filter"
   ]
  },
  {
   "cell_type": "code",
   "execution_count": 89,
   "metadata": {},
   "outputs": [
    {
     "name": "stderr",
     "output_type": "stream",
     "text": [
      "| | #                                             | 14083 Elapsed Time: 0:00:00"
     ]
    },
    {
     "name": "stdout",
     "output_type": "stream",
     "text": [
      "3145728\n"
     ]
    },
    {
     "name": "stderr",
     "output_type": "stream",
     "text": [
      "/ |                #                            | 3141929 Elapsed Time: 0:00:28"
     ]
    },
    {
     "name": "stdout",
     "output_type": "stream",
     "text": [
      "CPU times: user 32.6 s, sys: 2.38 s, total: 35 s\n",
      "Wall time: 33.4 s\n"
     ]
    },
    {
     "data": {
      "image/png": "[encoded data removed]",
      "text/plain": [
       "<Figure size 720x288 with 2 Axes>"
      ]
     },
     "metadata": {
      "needs_background": "light"
     },
     "output_type": "display_data"
    }
   ],
   "source": [
    "%%time\n",
    "## INPUT\n",
    "p_comb = [0, 1]\n",
    "mean = 0\n",
    "sd = 0.1\n",
    "cycle = 3\n",
    "binalize = True\n",
    "threshold = 0.5 #where val > threshold, then val = 1\n",
    "\n",
    "\n",
    "total_comb = len( p_comb ) ** 16 * ( len( a_comb ) ** 4 * cycle )\n",
    "print(total_comb)\n",
    "p_matrix = np.empty((total_comb, 16), dtype='int8')\n",
    "q_matrix = np.empty((total_comb, 9), dtype='float16')\n",
    "count = 0\n",
    "p = ProgressBar(total_comb)\n",
    "\n",
    "for p_11, p_12, p_13, p_14, p_21, p_22, p_23, p_24, p_31, p_32, p_33, p_34, p_41, p_42, p_43, p_44 in iter.product(p_comb, p_comb, p_comb, p_comb, p_comb, p_comb, p_comb, p_comb, p_comb, p_comb, p_comb, p_comb, p_comb, p_comb, p_comb, p_comb):\n",
    "    for i in range(cycle):\n",
    "        a_comb = [0.5 + np.random.normal(mean, sd) , 1]\n",
    "        for a_11, a_12, a_21, a_22 in iter.product(a_comb, a_comb, a_comb, a_comb):\n",
    "            q_matrix[count] = np.array([p_11 * a_11 + p_12 * a_12 + p_21 * a_21 + p_22 * a_22,\n",
    "                                        p_12 * a_11 + p_13 * a_12 + p_22 * a_21 + p_23 * a_22,\n",
    "                                        p_13 * a_11 + p_14 * a_12 + p_23 * a_21 + p_24 * a_22, \n",
    "                                        p_21 * a_11 + p_22 * a_12 + p_31 * a_21 + p_32 * a_22,\n",
    "                                        p_22 * a_11 + p_23 * a_12 + p_32 * a_21 + p_33 * a_22,\n",
    "                                        p_23 * a_11 + p_24 * a_12 + p_33 * a_21 + p_34 * a_22,\n",
    "                                        p_31 * a_11 + p_32 * a_12 + p_41 * a_21 + p_42 * a_22,\n",
    "                                        p_32 * a_11 + p_33 * a_12 + p_42 * a_21 + p_43 * a_22,\n",
    "                                        p_33 * a_11 + p_34 * a_12 + p_43 * a_21 + p_44 * a_22\n",
    "                                       ],\n",
    "                                      dtype=\"float16\")\n",
    "            p_matrix[count] = np.array([p_11, p_12, p_13, p_14, p_21, p_22, p_23, p_24, p_31, p_32, p_33, p_34, p_41, p_42, p_43, p_44])\n",
    "            count += 1\n",
    "            p.update(count + 1)\n",
    "q_matrix /= 4\n",
    "\n",
    "## PLOTTING\n",
    "fig, axes = plt.subplots(1,2, figsize = (10,4))\n",
    "hist_data = [q_matrix[i][1] for i in range(q_matrix.shape[0])]\n",
    "axes[0].hist(hist_data)\n",
    "if binalize == True:\n",
    "    q_matrix[q_matrix < threshold] = 0\n",
    "    q_matrix[q_matrix >= threshold] = 1\n",
    "    hist_data_binalize = [q_matrix[i][1] for i in range(q_matrix.shape[0])]\n",
    "    axes[1].hist(hist_data_binalize)\n",
    "    \n",
    "np.savez_compressed('4x4matrix', p_matrix = p_matrix, q_matrix = q_matrix)"
   ]
  },
  {
   "cell_type": "markdown",
   "metadata": {},
   "source": [
    "## Generator for CNN\n",
    "出力を三次元に拡張したもの"
   ]
  },
  {
   "cell_type": "code",
   "execution_count": 44,
   "metadata": {},
   "outputs": [
    {
     "name": "stderr",
     "output_type": "stream",
     "text": [
      "/ |  #                                            | 17923 Elapsed Time: 0:00:00"
     ]
    },
    {
     "name": "stdout",
     "output_type": "stream",
     "text": [
      "65536\n"
     ]
    },
    {
     "name": "stderr",
     "output_type": "stream",
     "text": [
      "\\ |       #                                       | 61725 Elapsed Time: 0:00:00"
     ]
    },
    {
     "name": "stdout",
     "output_type": "stream",
     "text": [
      "CPU times: user 923 ms, sys: 62 ms, total: 985 ms\n",
      "Wall time: 936 ms\n"
     ]
    },
    {
     "data": {
      "image/png": "[encoded data removed]",
      "text/plain": [
       "<Figure size 720x288 with 2 Axes>"
      ]
     },
     "metadata": {
      "needs_background": "light"
     },
     "output_type": "display_data"
    }
   ],
   "source": [
    "%%time\n",
    "## INPUT\n",
    "p_comb = [0, 1]\n",
    "a_comb = [1]\n",
    "binalize = True\n",
    "threshold = 0.5 #where val > threshold, then val = 1\n",
    "\n",
    "\n",
    "total_comb = len( p_comb ) ** 16 * len( a_comb ) ** 4\n",
    "print(total_comb)\n",
    "p_matrix = np.empty((total_comb,4,4,1), dtype='float16')\n",
    "q_matrix = np.empty((total_comb,3,3,1), dtype='float16')\n",
    "count = 0\n",
    "p = ProgressBar(total_comb)\n",
    "\n",
    "for p_11, p_12, p_13, p_14, p_21, p_22, p_23, p_24, p_31, p_32, p_33, p_34, p_41, p_42, p_43, p_44 in iter.product(p_comb, p_comb, p_comb, p_comb, p_comb, p_comb, p_comb, p_comb, p_comb, p_comb, p_comb, p_comb, p_comb, p_comb, p_comb, p_comb):\n",
    "    for a_11, a_12, a_21, a_22 in iter.product(a_comb, a_comb, a_comb, a_comb):\n",
    "        q_matrix[count, : , : , : ] = np.array(\n",
    "            [[p_11 * a_11 + p_12 * a_12 + p_21 * a_21 + p_22 * a_22,\n",
    "              p_12 * a_11 + p_13 * a_12 + p_22 * a_21 + p_23 * a_22,\n",
    "              p_13 * a_11 + p_14 * a_12 + p_23 * a_21 + p_24 * a_22],\n",
    "              [p_21 * a_11 + p_22 * a_12 + p_31 * a_21 + p_32 * a_22,\n",
    "              p_22 * a_11 + p_23 * a_12 + p_32 * a_21 + p_33 * a_22,\n",
    "              p_23 * a_11 + p_24 * a_12 + p_33 * a_21 + p_34 * a_22],\n",
    "              [p_31 * a_11 + p_32 * a_12 + p_41 * a_21 + p_42 * a_22,\n",
    "              p_32 * a_11 + p_33 * a_12 + p_42 * a_21 + p_43 * a_22,\n",
    "              p_33 * a_11 + p_34 * a_12 + p_43 * a_21 + p_44 * a_22\n",
    "                                   ]]).reshape(3,3,1)\n",
    "        p_matrix[count, : , : , : ] = np.array([[p_11, p_12, p_13, p_14], [p_21, p_22, p_23, p_24], [p_31, p_32, p_33, p_34], [p_41, p_42, p_43, p_44]]).reshape(4,4,1)\n",
    "        count += 1\n",
    "        p.update(count + 1)\n",
    "q_matrix /= 4\n",
    "\n",
    "## PLOTTING\n",
    "fig, axes = plt.subplots(1,2, figsize = (10,4))\n",
    "hist_data = [q_matrix[i,0,0,0] for i in range(q_matrix.shape[0])]\n",
    "axes[0].hist(hist_data)\n",
    "axes[0].set_title(\"before binalization\")\n",
    "if binalize == True:\n",
    "    q_matrix[q_matrix < threshold] = 0\n",
    "    q_matrix[q_matrix >= threshold] = 1\n",
    "    hist_data_binalize = [q_matrix[i,0,0,0] for i in range(q_matrix.shape[0])]\n",
    "    axes[1].hist(hist_data_binalize)\n",
    "    axes[1].set_title(\"after binalization\")\n",
    "np.savez_compressed('4x4matrix_cnn', p_matrix = p_matrix, q_matrix = q_matrix)"
   ]
  },
  {
   "cell_type": "markdown",
   "metadata": {},
   "source": [
    "## Matrix Approach(開発途中)"
   ]
  },
  {
   "cell_type": "code",
   "execution_count": 3,
   "metadata": {},
   "outputs": [
    {
     "name": "stderr",
     "output_type": "stream",
     "text": [
      "/ |  #                                             | 4470 Elapsed Time: 0:00:00"
     ]
    },
    {
     "name": "stdout",
     "output_type": "stream",
     "text": [
      "Total Combination : 5308416\n"
     ]
    },
    {
     "name": "stderr",
     "output_type": "stream",
     "text": [
      "\\ |                             #               | 5306961 Elapsed Time: 0:03:06"
     ]
    },
    {
     "name": "stdout",
     "output_type": "stream",
     "text": [
      "CPU times: user 3min 14s, sys: 3.33 s, total: 3min 17s\n",
      "Wall time: 3min 17s\n"
     ]
    },
    {
     "data": {
      "image/png": "[encoded data removed]",
      "text/plain": [
       "<Figure size 720x288 with 2 Axes>"
      ]
     },
     "metadata": {
      "needs_background": "light"
     },
     "output_type": "display_data"
    }
   ],
   "source": [
    "%%time\n",
    "## INPUT\n",
    "p_comb = [0, 1]\n",
    "a_comb = [0, 0.5, 1]\n",
    "\n",
    "## Setting a gaussian noise params\n",
    "## used in a-filter elements except a_comb\n",
    "add_noise = True\n",
    "mean = 0\n",
    "sd = 0.05\n",
    "\n",
    "# if True, then all q_matrix elements will be binalized.\n",
    "binalize = True\n",
    "threshold = 0.4 #where val > threshold, then val = 1\n",
    "\n",
    "\n",
    "total_comb = len( p_comb ) ** 16 * len( a_comb ) ** 4\n",
    "print(\"Total Combination : {}\".format(total_comb))\n",
    "\n",
    "## Initializing p_matrix and q_matrix\n",
    "p_matrix = np.empty((total_comb, 16), dtype='float16')\n",
    "q_matrix = np.empty((total_comb, 9), dtype='float16')\n",
    "\n",
    "## Params for showing up a process\n",
    "count = 0\n",
    "p = ProgressBar(total_comb)\n",
    "\n",
    "for p_11, p_12, p_13, p_14, p_21, p_22, p_23, p_24, p_31, p_32, p_33, p_34, p_41, p_42, p_43, p_44 in iter.product(p_comb, p_comb, p_comb, p_comb, p_comb, p_comb, p_comb, p_comb, p_comb, p_comb, p_comb, p_comb, p_comb, p_comb, p_comb, p_comb):\n",
    "    for a_11, a_12, a_21, a_22 in iter.product(a_comb, a_comb, a_comb, a_comb):\n",
    "        p_matrix[count] = np.array([p_11, p_12, p_13, p_14, p_21, p_22, p_23, p_24, p_31, p_32, p_33, p_34, p_41, p_42, p_43, p_44])\n",
    "        a_filter = np.array([\n",
    "            [a_11, a_12, 0, 0, a_21, a_22, 0, 0, 0, 0, 0, 0, 0, 0, 0, 0],\n",
    "            [0, a_11, a_12, 0, 0, a_21, a_22, 0, 0, 0, 0, 0, 0, 0, 0, 0],\n",
    "            [0, 0, a_11, a_12, 0, 0, a_21, a_22, 0, 0, 0, 0, 0, 0, 0, 0],\n",
    "            [0, 0, 0, 0, a_11, a_12, 0, 0, a_21, a_22, 0, 0, 0, 0, 0, 0],\n",
    "            [0, 0, 0, 0, 0, a_11, a_12, 0, 0, a_21, a_22, 0, 0, 0, 0, 0],\n",
    "            [0, 0, 0, 0, 0, 0, a_11, a_12, 0, 0, a_21, a_22, 0, 0, 0, 0],\n",
    "            [0, 0, 0, 0, 0, 0, 0, 0, a_11, a_12, 0, 0, a_21, a_22, 0, 0],\n",
    "            [0, 0, 0, 0, 0, 0, 0, 0, 0, a_11, a_12, 0, 0, a_21, a_22, 0],\n",
    "            [0, 0, 0, 0, 0, 0, 0, 0, 0, 0, a_11, a_12, 0, 0, a_21, a_22]\n",
    "        ], dtype=\"float16\")\n",
    "        if add_noise:\n",
    "            noise = np.random.normal(mean, sd, (9, 16))\n",
    "            a_filter += noise\n",
    "        q_matrix[count] = np.dot(a_filter, p_matrix[count])\n",
    "\n",
    "        count += 1\n",
    "        p.update(count + 1)\n",
    "q_matrix /= 4\n",
    "\n",
    "## PLOTTING\n",
    "fig, axes = plt.subplots(1,2, figsize = (10,4))\n",
    "hist_data = [q_matrix[i][1] for i in range(q_matrix.shape[0])]\n",
    "axes[0].hist(hist_data)\n",
    "if binalize == True:\n",
    "    q_matrix[q_matrix < threshold] = 0\n",
    "    q_matrix[q_matrix >= threshold] = 1\n",
    "    hist_data_binalize = [q_matrix[i][1] for i in range(q_matrix.shape[0])]\n",
    "    axes[1].hist(hist_data_binalize)\n",
    "    \n",
    "np.savez_compressed('4x4matrix', p_matrix = p_matrix, q_matrix = q_matrix)"
   ]
  },
  {
   "cell_type": "markdown",
   "metadata": {},
   "source": [
    "## Saving as 4x4matrix.npz"
   ]
  },
  {
   "cell_type": "code",
   "execution_count": 19,
   "metadata": {},
   "outputs": [
    {
     "name": "stdout",
     "output_type": "stream",
     "text": [
      "CPU times: user 761 ms, sys: 13.5 ms, total: 775 ms\n",
      "Wall time: 778 ms\n"
     ]
    }
   ],
   "source": [
    "%time np.savez_compressed('4x4matrix', p_matrix = p_matrix, q_matrix = q_matrix)"
   ]
  },
  {
   "cell_type": "code",
   "execution_count": 98,
   "metadata": {},
   "outputs": [
    {
     "data": {
      "text/plain": [
       "(array([11., 16., 12., 17., 13., 16.,  9.,  3.,  2.,  1.]),\n",
       " array([-0.09131824, -0.06754641, -0.04377458, -0.02000275,  0.00376909,\n",
       "         0.02754092,  0.05131275,  0.07508458,  0.09885642,  0.12262825,\n",
       "         0.14640008]),\n",
       " <a list of 10 Patch objects>)"
      ]
     },
     "execution_count": 98,
     "metadata": {},
     "output_type": "execute_result"
    },
    {
     "data": {
      "image/png": "[encoded data removed]",
      "text/plain": [
       "<Figure size 432x288 with 1 Axes>"
      ]
     },
     "metadata": {
      "needs_background": "light"
     },
     "output_type": "display_data"
    }
   ],
   "source": [
    "mean = 0\n",
    "sd = 0.05\n",
    "plt.hist([np.random.normal(mean,sd,100)])"
   ]
  },
  {
   "cell_type": "code",
   "execution_count": 91,
   "metadata": {},
   "outputs": [],
   "source": [
    "np.dot?"
   ]
  },
  {
   "cell_type": "code",
   "execution_count": null,
   "metadata": {},
   "outputs": [],
   "source": []
  }
 ],
 "metadata": {
  "kernelspec": {
   "display_name": "Python 3",
   "language": "python",
   "name": "python3"
  },
  "language_info": {
   "codemirror_mode": {
    "name": "ipython",
    "version": 3
   },
   "file_extension": ".py",
   "mimetype": "text/x-python",
   "name": "python",
   "nbconvert_exporter": "python",
   "pygments_lexer": "ipython3",
   "version": "3.6.6"
  }
 },
 "nbformat": 4,
 "nbformat_minor": 2
}
