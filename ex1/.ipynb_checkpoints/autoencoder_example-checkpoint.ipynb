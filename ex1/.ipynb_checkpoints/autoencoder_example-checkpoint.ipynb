{
 "cells": [
  {
   "cell_type": "markdown",
   "metadata": {},
   "source": [
    "### 1/17 追記\n",
    "AutoEncoderとベイズを比較して、\n",
    "`predicted image`と`p(P|Q)`の値がほぼ等しい結果が得られた.\n",
    "\n",
    "それは一体なぜなのか考察してください.\n",
    "\n",
    "\n",
    "また、この2つの間の違いを定量的に評価することは、発表の上で非常に重要な要素になりそうだと考えられます.\n",
    "質よりも量で思いついた事、新しい知見などはお互い共有しよう. 何もアウトプットしないことだけは避けてほしいです.\n",
    "\n",
    "\n",
    "橋爪さんからのアドバイスは以下の3つ.\n",
    "- `predicted image with binalization`から`original image`に変換出来るか確認する\n",
    "- `4x4MatrixGenerator.ipynb`のフィルター**A**の値を工夫する. 具体的には、より現実に近いケースを考える. 例として正規分布に従ったノイズ$\\epsilon$を加えてみたり... (要考察)\n",
    "- 実際の風景画や、大きなサイズにおいてこのアルゴリズムを適用してみる. ファミコンのドット絵とか面白そう? もしRGBに対応させるにはどうするか？　要考察"
   ]
  },
  {
   "cell_type": "code",
   "execution_count": 46,
   "metadata": {},
   "outputs": [],
   "source": [
    "import numpy as np\n",
    "import pandas as pd\n",
    "import pydot\n",
    "import matplotlib.pyplot as plt\n",
    "import itertools as iter\n",
    "import tensorflow as tf\n",
    "from tensorflow import keras\n",
    "from tensorflow.keras.models import Sequential\n",
    "from tensorflow.keras.layers import Dense, Activation, Dropout, Conv2D, UpSampling2D\n",
    "\n",
    "from PIL import Image\n",
    "\n",
    "%matplotlib inline"
   ]
  },
  {
   "cell_type": "code",
   "execution_count": 282,
   "metadata": {},
   "outputs": [],
   "source": [
    "tf.keras.activations.relu?"
   ]
  },
  {
   "cell_type": "code",
   "execution_count": 281,
   "metadata": {},
   "outputs": [],
   "source": [
    "tf.nn.relu?"
   ]
  },
  {
   "cell_type": "markdown",
   "metadata": {},
   "source": [
    "### ベイズなし版"
   ]
  },
  {
   "cell_type": "code",
   "execution_count": 398,
   "metadata": {},
   "outputs": [],
   "source": [
    "class AE():\n",
    "    def __init__(self, optimizer='rmsprop', loss='mean_squared_error', input_data_path=\"../4x4matrix.csv\"):\n",
    "        self.p_matrix = np.load(\"4x4matrix.npz\")[\"p_matrix\"]\n",
    "        self.q_matrix = np.load(\"4x4matrix.npz\")[\"q_matrix\"]\n",
    "        self.optimizer = optimizer\n",
    "        self.model = Sequential()\n",
    "        #keras.layers.ReLU(max_value=1, negative_slope=0, threshold = 0)\n",
    "        self.model.add( Dense(16, activation = tf.nn.relu, input_dim = 9) )\n",
    "        self.model.add( Dropout(0.2) )\n",
    "        self.model.add( Dense(16, activation = tf.nn.relu ) )\n",
    "        self.model.add( Dense(16, activation = tf.nn.relu ) )\n",
    "        self.model.add( Dense(16, activation = tf.nn.sigmoid ) )\n",
    "        self.model.compile(optimizer = optimizer,\n",
    "                           loss = loss,\n",
    "                           metrics = ['accuracy'])\n",
    "    def bayes(self, test_img):\n",
    "        preds = self.model.predict(test_img).reshape(4,4)\n",
    "        preds_binary = preds.copy()\n",
    "        preds_binary[preds_binary < threshold] = 0\n",
    "        preds_binary[preds_binary >= threshold] = 1\n",
    "        print(preds, preds_binary)\n",
    "        \n",
    "        ncols = 5\n",
    "        fig, axes = plt.subplots(nrows = 1, ncols = ncols, figsize = (16,16))\n",
    "        bayes_image = np.empty(16)\n",
    "        index_when_given_q = np.all(self.q_matrix == test_img.reshape(9,), axis = 1)\n",
    "        p_given_q = self.p_matrix[index_when_given_q]\n",
    "        print(p_given_q)\n",
    "        for col in range(16):\n",
    "            is_one_counter = 0\n",
    "            target_list = [p_given_q[row][col] for row in range(p_given_q.shape[0])]\n",
    "            total_length = len(target_list)\n",
    "            print(total_length)\n",
    "            for j in range(total_length):\n",
    "                if target_list[j] == 1:\n",
    "                    is_one_counter += 1\n",
    "                prob = is_one_counter / total_length\n",
    "                bayes_image[col] = prob\n",
    "        \n",
    "        axes[0].imshow(test_img.reshape(3,3), cmap = plt.cm.binary)\n",
    "        axes[0].set_title(\"original image\")\n",
    "        axes[1].imshow(preds, cmap = plt.cm.binary)\n",
    "        axes[1].set_title(\"predicted image\")\n",
    "        axes[2].imshow(preds_binary, cmap = plt.cm.binary)\n",
    "        axes[2].set_title(\"predicted image with binalization\")\n",
    "        axes[3].imshow(bayes_image.reshape(4,4), cmap = plt.cm.binary)\n",
    "        axes[3].set_title(\"p(P|Q) image based on bayes\")\n",
    "        bayes_image[ bayes_image < thresold ] = 0\n",
    "        bayes_image[ bayes_image >= thresold ] = 1\n",
    "        axes[4].imshow(bayes_image.reshape(4,4), cmap = plt.cm.binary)\n",
    "        axes[4].set_title(\"p(P|Q) image based on bayes with binalization\")\n",
    "        \n",
    "    def fit(self, epochs='4', batch_size='256'):\n",
    "        self.model.fit(self.q_matrix, self.p_matrix,\n",
    "                      epochs = epochs,\n",
    "                      batch_size = batch_size,\n",
    "                      validation_data = (self.q_matrix, self.p_matrix))\n",
    "    \n",
    "    def predict(self, test_img, threshold):\n",
    "        preds = self.model.predict(test_img).reshape(4,4)\n",
    "        preds_binary = preds.copy()\n",
    "        preds_binary[preds_binary < threshold] = 0\n",
    "        preds_binary[preds_binary >= threshold] = 1\n",
    "        ncols = 3\n",
    "        fig, axes = plt.subplots(nrows = 1, ncols = ncols, figsize = (14,14))\n",
    "        axes[0].imshow(test_img.reshape(3,3), cmap = plt.cm.binary)\n",
    "        axes[0].set_title(\"original image\")\n",
    "        axes[1].imshow(preds, cmap = plt.cm.binary)\n",
    "        axes[1].set_title(\"predicted image\")\n",
    "        axes[2].imshow(preds_binary, cmap = plt.cm.binary)\n",
    "        axes[2].set_title(\"predicted image with binalization\")\n",
    "    \n",
    "    def predict_RGB(self, test_img, threshold):\n",
    "        preds = np.empty((4,4,3), dtype='float32')\n",
    "        preds_binary = np.empty((4,4,3), dtype='float32')\n",
    "        for dim in range(test_img.shape[2]):\n",
    "            preds[ : , : , dim] = self.model.predict(test_img[ : , : , dim].reshape(1,9)).reshape(4,4)\n",
    "            preds_binary[ : , : , dim] = preds[ : , : , dim].copy()\n",
    "        preds_binary[preds_binary < threshold] = 0\n",
    "        preds_binary[preds_binary >= threshold] = 1\n",
    "        ncols = 3\n",
    "        fig, axes = plt.subplots(nrows = 1, ncols = ncols, figsize = (14,14))\n",
    "        axes[0].imshow(test_img, cmap = plt.cm.binary)\n",
    "        axes[0].set_title(\"original image\")\n",
    "        axes[1].imshow(preds, cmap = plt.cm.binary)\n",
    "        axes[1].set_title(\"predicted image\")\n",
    "        axes[2].imshow(preds_binary, cmap = plt.cm.binary)\n",
    "        axes[2].set_title(\"predicted image with binalization\")\n",
    "        \n",
    "    def SR(self, input_img, thresold):\n",
    "        # Preprocessing area\n",
    "        x, y, z = input_img.shape # dimention x and y\n",
    "        pad_list = [] # padding count x = 0, y = 1\n",
    "        for i in [x, y]:\n",
    "            if i % 3 == 0:\n",
    "                pad_list.append(0)\n",
    "            elif i % 3 == 1:\n",
    "                pad_list.append(2)\n",
    "            else:\n",
    "                pad_list.append(1)\n",
    "        \n",
    "        temp = np.zeros((x + pad_list[0], y + pad_list[1], 3), dtype='float32') # new temporary array replaced with input_img\n",
    "        temp[ 0 : x, 0 : y , 0 : z] = input_img\n",
    "        input_img = temp\n",
    "        m,n = int(input_img.shape[0] / 3), int(input_img.shape[1] / 3)\n",
    "        output_img = np.empty((4 * m , 4 * n, 3), dtype='float32')\n",
    "        print(pad_list[0], pad_list[1])\n",
    "        \n",
    "        # SR area\n",
    "        for dim in [0,1,2]:\n",
    "            for i, j in iter.product(range(n), range(m)):\n",
    "                partial_img = input_img.copy()[ 3 * j : 3 * ( j + 1 ), 3 * i : 3 * ( i + 1), dim] \n",
    "                if np.all(partial_img < 0.1):\n",
    "                    partial_img = np.zeros(16)\n",
    "                else:\n",
    "                    partial_img = self.model.predict( partial_img.reshape(1,9) )\n",
    "                output_img[4 * j : 4 * (j + 1), 4 * i : 4 * ( i + 1), dim] = partial_img.reshape(4,4)\n",
    "        \n",
    "        max_val = output_img.max()\n",
    "        output_img /= max_val\n",
    "        output_img_binalized = output_img.copy()\n",
    "        output_img_binalized[output_img_binalized >= thresold] = 1\n",
    "        output_img_binalized[output_img_binalized < thresold] = 0\n",
    "\n",
    "        fig, axes = plt.subplots(1,3, figsize = (16,16))\n",
    "        axes[0].imshow(input_img, cmap = plt.cm.binary)\n",
    "        axes[0].set_title(\"input image\")\n",
    "        axes[1].imshow(output_img, cmap = plt.cm.binary)\n",
    "        axes[1].set_title(\"output image\")\n",
    "        axes[2].imshow(output_img_binalized, cmap = plt.cm.binary)\n",
    "        axes[2].set_title(\"output image with biinalization\")\n",
    "        \n",
    "        return output_img\n",
    "    \n",
    "    def SR2(self, file_path, mean = 0 , sd = 0.2):\n",
    "        # Resizing area\n",
    "        input_img = Image.open(file_path)\n",
    "        img_width, img_height = input_img.size\n",
    "        \n",
    "        ratio = 3 / 4\n",
    "        resized_width =  int(input_img.size[0] * ratio)\n",
    "        resized_height = int(input_img.size[1] * ratio)\n",
    "        resized_img = input_img.resize((resized_width, resized_height))\n",
    "        resized_img = np.array(resized_img, \"f\") / 255\n",
    "        resized_img = resized_img + np.random.normal(mean, sd, (resized_height, resized_width, 3))\n",
    "        input_img = np.array(input_img, 'f') / 255\n",
    "        \n",
    "        # Preprocessing area\n",
    "        x, y, z = resized_img.shape # dimention x and y\n",
    "        pad_list = [] # padding count x = 0, y = 1\n",
    "        for i in [x, y]:\n",
    "            if i % 3 == 0:\n",
    "                pad_list.append(0)\n",
    "            elif i % 3 == 1:\n",
    "                pad_list.append(2)\n",
    "            else:\n",
    "                pad_list.append(1)\n",
    "        \n",
    "        temp = np.zeros((x + pad_list[0], y + pad_list[1], 3), dtype='float32') # new temporary array replaced with input_img\n",
    "        temp[ 0 : x, 0 : y , 0 : z] = resized_img\n",
    "        resized_img = temp\n",
    "        m,n = int(resized_img.shape[0] / 3), int(resized_img.shape[1] / 3)\n",
    "        output_img = np.empty((4 * m , 4 * n, 3), dtype='float32')\n",
    "        print(pad_list[0], pad_list[1])\n",
    "        \n",
    "        # SR area\n",
    "        for dim in [0,1,2]:\n",
    "            for i, j in iter.product(range(n), range(m)):\n",
    "                partial_img = resized_img.copy()[ 3 * j : 3 * ( j + 1 ), 3 * i : 3 * ( i + 1), dim] \n",
    "                if np.all(partial_img < 0.1):\n",
    "                    partial_img = np.zeros(16)\n",
    "                else:\n",
    "                    partial_img = self.model.predict( partial_img.reshape(1,9) )\n",
    "                output_img[4 * j : 4 * (j + 1), 4 * i : 4 * ( i + 1), dim] = partial_img.reshape(4,4)\n",
    "        \n",
    "        max_val = output_img.max()\n",
    "        output_img /= max_val\n",
    "\n",
    "        fig, axes = plt.subplots(1,3, figsize = (15,15))\n",
    "        axes[0].imshow(input_img, cmap = plt.cm.binary)\n",
    "        axes[0].set_title(\"input image\")\n",
    "        axes[1].imshow(resized_img, cmap = plt.cm.binary)\n",
    "        axes[1].set_title(\"resized image\")\n",
    "        axes[2].imshow(output_img, cmap = plt.cm.binary)\n",
    "        axes[2].set_title(\"output image\")\n",
    "        return output_img"
   ]
  },
  {
   "cell_type": "code",
   "execution_count": 399,
   "metadata": {},
   "outputs": [],
   "source": [
    "autoencoder = AE(optimizer = tf.train.AdamOptimizer(learning_rate = 1e-3)  , loss = tf.keras.losses.mean_squared_error  )\n",
    "#autoencoder = AE(optimizer = tf.train.AdamOptimizer(learning_rate=5e-4) , loss = tf.keras.losses.binary_crossentropy)"
   ]
  },
  {
   "cell_type": "markdown",
   "metadata": {},
   "source": [
    "## モデル"
   ]
  },
  {
   "cell_type": "code",
   "execution_count": 400,
   "metadata": {},
   "outputs": [
    {
     "name": "stdout",
     "output_type": "stream",
     "text": [
      "_________________________________________________________________\n",
      "Layer (type)                 Output Shape              Param #   \n",
      "=================================================================\n",
      "dense_95 (Dense)             (None, 16)                160       \n",
      "_________________________________________________________________\n",
      "dropout_40 (Dropout)         (None, 16)                0         \n",
      "_________________________________________________________________\n",
      "dense_96 (Dense)             (None, 16)                272       \n",
      "_________________________________________________________________\n",
      "dense_97 (Dense)             (None, 16)                272       \n",
      "_________________________________________________________________\n",
      "dense_98 (Dense)             (None, 16)                272       \n",
      "=================================================================\n",
      "Total params: 976\n",
      "Trainable params: 976\n",
      "Non-trainable params: 0\n",
      "_________________________________________________________________\n"
     ]
    }
   ],
   "source": [
    "autoencoder.model.summary()"
   ]
  },
  {
   "cell_type": "markdown",
   "metadata": {},
   "source": [
    "## 学習"
   ]
  },
  {
   "cell_type": "code",
   "execution_count": 334,
   "metadata": {},
   "outputs": [
    {
     "name": "stdout",
     "output_type": "stream",
     "text": [
      "Train on 65536 samples, validate on 65536 samples\n",
      "Epoch 1/100\n",
      "65536/65536 [==============================] - 1s 15us/step - loss: 0.1507 - acc: 0.1116 - val_loss: 0.1158 - val_acc: 0.1151\n",
      "Epoch 2/100\n",
      "65536/65536 [==============================] - 1s 15us/step - loss: 0.1510 - acc: 0.1132 - val_loss: 0.1153 - val_acc: 0.1236\n",
      "Epoch 3/100\n",
      "65536/65536 [==============================] - 1s 15us/step - loss: 0.1506 - acc: 0.1095 - val_loss: 0.1155 - val_acc: 0.1267\n",
      "Epoch 4/100\n",
      "65536/65536 [==============================] - 1s 15us/step - loss: 0.1508 - acc: 0.1131 - val_loss: 0.1154 - val_acc: 0.1177\n",
      "Epoch 5/100\n",
      "65536/65536 [==============================] - 1s 15us/step - loss: 0.1507 - acc: 0.1135 - val_loss: 0.1156 - val_acc: 0.1223\n",
      "Epoch 6/100\n",
      "65536/65536 [==============================] - 1s 15us/step - loss: 0.1506 - acc: 0.1129 - val_loss: 0.1152 - val_acc: 0.1196\n",
      "Epoch 7/100\n",
      "65536/65536 [==============================] - 1s 15us/step - loss: 0.1506 - acc: 0.1143 - val_loss: 0.1159 - val_acc: 0.1246\n",
      "Epoch 8/100\n",
      "65536/65536 [==============================] - 1s 15us/step - loss: 0.1505 - acc: 0.1139 - val_loss: 0.1152 - val_acc: 0.1191\n",
      "Epoch 9/100\n",
      "65536/65536 [==============================] - 1s 15us/step - loss: 0.1507 - acc: 0.1137 - val_loss: 0.1151 - val_acc: 0.1232\n",
      "Epoch 10/100\n",
      "65536/65536 [==============================] - 1s 15us/step - loss: 0.1506 - acc: 0.1124 - val_loss: 0.1152 - val_acc: 0.1250\n",
      "Epoch 11/100\n",
      "65536/65536 [==============================] - 1s 18us/step - loss: 0.1503 - acc: 0.1159 - val_loss: 0.1158 - val_acc: 0.1243\n",
      "Epoch 12/100\n",
      "65536/65536 [==============================] - 1s 16us/step - loss: 0.1504 - acc: 0.1144 - val_loss: 0.1155 - val_acc: 0.1269\n",
      "Epoch 13/100\n",
      "65536/65536 [==============================] - 1s 14us/step - loss: 0.1504 - acc: 0.1146 - val_loss: 0.1157 - val_acc: 0.1191\n",
      "Epoch 14/100\n",
      "65536/65536 [==============================] - 1s 15us/step - loss: 0.1504 - acc: 0.1142 - val_loss: 0.1159 - val_acc: 0.1190\n",
      "Epoch 15/100\n",
      "65536/65536 [==============================] - 1s 14us/step - loss: 0.1503 - acc: 0.1147 - val_loss: 0.1161 - val_acc: 0.1272\n",
      "Epoch 16/100\n",
      "65536/65536 [==============================] - 1s 22us/step - loss: 0.1509 - acc: 0.1184 - val_loss: 0.1154 - val_acc: 0.1188\n",
      "Epoch 17/100\n",
      "65536/65536 [==============================] - 1s 17us/step - loss: 0.1503 - acc: 0.1165 - val_loss: 0.1155 - val_acc: 0.1186\n",
      "Epoch 18/100\n",
      "65536/65536 [==============================] - 1s 16us/step - loss: 0.1500 - acc: 0.1155 - val_loss: 0.1156 - val_acc: 0.1252\n",
      "Epoch 19/100\n",
      "65536/65536 [==============================] - 1s 17us/step - loss: 0.1504 - acc: 0.1155 - val_loss: 0.1158 - val_acc: 0.1264\n",
      "Epoch 20/100\n",
      "65536/65536 [==============================] - 1s 16us/step - loss: 0.1502 - acc: 0.1149 - val_loss: 0.1154 - val_acc: 0.1304\n",
      "Epoch 21/100\n",
      "65536/65536 [==============================] - 1s 15us/step - loss: 0.1504 - acc: 0.1174 - val_loss: 0.1156 - val_acc: 0.1159\n",
      "Epoch 22/100\n",
      "65536/65536 [==============================] - 1s 15us/step - loss: 0.1501 - acc: 0.1158 - val_loss: 0.1150 - val_acc: 0.1230\n",
      "Epoch 23/100\n",
      "65536/65536 [==============================] - 1s 15us/step - loss: 0.1501 - acc: 0.1144 - val_loss: 0.1151 - val_acc: 0.1266\n",
      "Epoch 24/100\n",
      "65536/65536 [==============================] - 1s 15us/step - loss: 0.1500 - acc: 0.1147 - val_loss: 0.1153 - val_acc: 0.1224\n",
      "Epoch 25/100\n",
      "65536/65536 [==============================] - 1s 15us/step - loss: 0.1499 - acc: 0.1166 - val_loss: 0.1150 - val_acc: 0.1208\n",
      "Epoch 26/100\n",
      "65536/65536 [==============================] - 1s 15us/step - loss: 0.1502 - acc: 0.1160 - val_loss: 0.1153 - val_acc: 0.1235\n",
      "Epoch 27/100\n",
      "65536/65536 [==============================] - 1s 15us/step - loss: 0.1500 - acc: 0.1137 - val_loss: 0.1157 - val_acc: 0.1223\n",
      "Epoch 28/100\n",
      "65536/65536 [==============================] - 1s 15us/step - loss: 0.1499 - acc: 0.1154 - val_loss: 0.1147 - val_acc: 0.1272\n",
      "Epoch 29/100\n",
      "65536/65536 [==============================] - 1s 15us/step - loss: 0.1499 - acc: 0.1149 - val_loss: 0.1149 - val_acc: 0.1242\n",
      "Epoch 30/100\n",
      "65536/65536 [==============================] - 1s 16us/step - loss: 0.1499 - acc: 0.1150 - val_loss: 0.1150 - val_acc: 0.1252\n",
      "Epoch 31/100\n",
      "65536/65536 [==============================] - 1s 16us/step - loss: 0.1499 - acc: 0.1190 - val_loss: 0.1147 - val_acc: 0.1208\n",
      "Epoch 32/100\n",
      "65536/65536 [==============================] - 1s 15us/step - loss: 0.1502 - acc: 0.1150 - val_loss: 0.1154 - val_acc: 0.1270\n",
      "Epoch 33/100\n",
      "65536/65536 [==============================] - 1s 16us/step - loss: 0.1499 - acc: 0.1149 - val_loss: 0.1150 - val_acc: 0.1274\n",
      "Epoch 34/100\n",
      "65536/65536 [==============================] - 1s 16us/step - loss: 0.1500 - acc: 0.1155 - val_loss: 0.1151 - val_acc: 0.1242\n",
      "Epoch 35/100\n",
      "65536/65536 [==============================] - 1s 16us/step - loss: 0.1497 - acc: 0.1143 - val_loss: 0.1150 - val_acc: 0.1232\n",
      "Epoch 36/100\n",
      "65536/65536 [==============================] - 1s 15us/step - loss: 0.1499 - acc: 0.1147 - val_loss: 0.1151 - val_acc: 0.1320\n",
      "Epoch 37/100\n",
      "65536/65536 [==============================] - 1s 16us/step - loss: 0.1498 - acc: 0.1178 - val_loss: 0.1150 - val_acc: 0.1216\n",
      "Epoch 38/100\n",
      "65536/65536 [==============================] - 1s 17us/step - loss: 0.1498 - acc: 0.1179 - val_loss: 0.1151 - val_acc: 0.1283\n",
      "Epoch 39/100\n",
      "65536/65536 [==============================] - 1s 16us/step - loss: 0.1498 - acc: 0.1176 - val_loss: 0.1150 - val_acc: 0.1304\n",
      "Epoch 40/100\n",
      "65536/65536 [==============================] - 1s 15us/step - loss: 0.1497 - acc: 0.1177 - val_loss: 0.1150 - val_acc: 0.1295\n",
      "Epoch 41/100\n",
      "65536/65536 [==============================] - 1s 15us/step - loss: 0.1497 - acc: 0.1184 - val_loss: 0.1152 - val_acc: 0.1254\n",
      "Epoch 42/100\n",
      "65536/65536 [==============================] - 1s 15us/step - loss: 0.1499 - acc: 0.1185 - val_loss: 0.1150 - val_acc: 0.1295\n",
      "Epoch 43/100\n",
      "65536/65536 [==============================] - 1s 15us/step - loss: 0.1500 - acc: 0.1178 - val_loss: 0.1151 - val_acc: 0.1397\n",
      "Epoch 44/100\n",
      "65536/65536 [==============================] - 1s 15us/step - loss: 0.1498 - acc: 0.1199 - val_loss: 0.1146 - val_acc: 0.1302\n",
      "Epoch 45/100\n",
      "65536/65536 [==============================] - 1s 16us/step - loss: 0.1497 - acc: 0.1193 - val_loss: 0.1145 - val_acc: 0.1228\n",
      "Epoch 46/100\n",
      "65536/65536 [==============================] - 1s 15us/step - loss: 0.1498 - acc: 0.1200 - val_loss: 0.1149 - val_acc: 0.1242\n",
      "Epoch 47/100\n",
      "65536/65536 [==============================] - 1s 15us/step - loss: 0.1494 - acc: 0.1209 - val_loss: 0.1151 - val_acc: 0.1239\n",
      "Epoch 48/100\n",
      "65536/65536 [==============================] - 1s 16us/step - loss: 0.1497 - acc: 0.1200 - val_loss: 0.1146 - val_acc: 0.1260\n",
      "Epoch 49/100\n",
      "65536/65536 [==============================] - 1s 16us/step - loss: 0.1494 - acc: 0.1200 - val_loss: 0.1147 - val_acc: 0.1272\n",
      "Epoch 50/100\n",
      "65536/65536 [==============================] - 1s 16us/step - loss: 0.1498 - acc: 0.1210 - val_loss: 0.1145 - val_acc: 0.1227\n",
      "Epoch 51/100\n",
      "65536/65536 [==============================] - 1s 16us/step - loss: 0.1494 - acc: 0.1223 - val_loss: 0.1153 - val_acc: 0.1285\n",
      "Epoch 52/100\n",
      "65536/65536 [==============================] - 1s 17us/step - loss: 0.1496 - acc: 0.1219 - val_loss: 0.1147 - val_acc: 0.1317\n",
      "Epoch 53/100\n",
      "65536/65536 [==============================] - 1s 15us/step - loss: 0.1497 - acc: 0.1219 - val_loss: 0.1147 - val_acc: 0.1306\n",
      "Epoch 54/100\n",
      "65536/65536 [==============================] - 1s 19us/step - loss: 0.1495 - acc: 0.1225 - val_loss: 0.1151 - val_acc: 0.1321\n",
      "Epoch 55/100\n",
      "65536/65536 [==============================] - 1s 17us/step - loss: 0.1493 - acc: 0.1221 - val_loss: 0.1148 - val_acc: 0.1306\n",
      "Epoch 56/100\n",
      "65536/65536 [==============================] - 1s 16us/step - loss: 0.1494 - acc: 0.1205 - val_loss: 0.1148 - val_acc: 0.1329\n",
      "Epoch 57/100\n",
      "65536/65536 [==============================] - 1s 16us/step - loss: 0.1494 - acc: 0.1223 - val_loss: 0.1146 - val_acc: 0.1271\n",
      "Epoch 58/100\n",
      "65536/65536 [==============================] - 1s 15us/step - loss: 0.1493 - acc: 0.1217 - val_loss: 0.1144 - val_acc: 0.1424\n",
      "Epoch 59/100\n"
     ]
    },
    {
     "name": "stdout",
     "output_type": "stream",
     "text": [
      "65536/65536 [==============================] - 1s 15us/step - loss: 0.1494 - acc: 0.1215 - val_loss: 0.1146 - val_acc: 0.1299\n",
      "Epoch 60/100\n",
      "65536/65536 [==============================] - 1s 15us/step - loss: 0.1497 - acc: 0.1231 - val_loss: 0.1140 - val_acc: 0.1293\n",
      "Epoch 61/100\n",
      "65536/65536 [==============================] - 1s 16us/step - loss: 0.1491 - acc: 0.1220 - val_loss: 0.1147 - val_acc: 0.1307\n",
      "Epoch 62/100\n",
      "65536/65536 [==============================] - 1s 15us/step - loss: 0.1495 - acc: 0.1237 - val_loss: 0.1144 - val_acc: 0.1320\n",
      "Epoch 63/100\n",
      "65536/65536 [==============================] - 1s 17us/step - loss: 0.1495 - acc: 0.1226 - val_loss: 0.1146 - val_acc: 0.1313\n",
      "Epoch 64/100\n",
      "65536/65536 [==============================] - 1s 18us/step - loss: 0.1492 - acc: 0.1211 - val_loss: 0.1140 - val_acc: 0.1358\n",
      "Epoch 65/100\n",
      "65536/65536 [==============================] - 1s 18us/step - loss: 0.1494 - acc: 0.1231 - val_loss: 0.1142 - val_acc: 0.1303\n",
      "Epoch 66/100\n",
      "65536/65536 [==============================] - 1s 17us/step - loss: 0.1491 - acc: 0.1235 - val_loss: 0.1144 - val_acc: 0.1368\n",
      "Epoch 67/100\n",
      "65536/65536 [==============================] - 1s 17us/step - loss: 0.1494 - acc: 0.1208 - val_loss: 0.1139 - val_acc: 0.1349\n",
      "Epoch 68/100\n",
      "65536/65536 [==============================] - 1s 17us/step - loss: 0.1492 - acc: 0.1229 - val_loss: 0.1143 - val_acc: 0.1306\n",
      "Epoch 69/100\n",
      "65536/65536 [==============================] - 1s 19us/step - loss: 0.1492 - acc: 0.1221 - val_loss: 0.1138 - val_acc: 0.1311\n",
      "Epoch 70/100\n",
      "65536/65536 [==============================] - 1s 18us/step - loss: 0.1491 - acc: 0.1249 - val_loss: 0.1143 - val_acc: 0.1246\n",
      "Epoch 71/100\n",
      "65536/65536 [==============================] - 1s 21us/step - loss: 0.1492 - acc: 0.1220 - val_loss: 0.1135 - val_acc: 0.1292\n",
      "Epoch 72/100\n",
      "65536/65536 [==============================] - 1s 16us/step - loss: 0.1493 - acc: 0.1230 - val_loss: 0.1141 - val_acc: 0.1352\n",
      "Epoch 73/100\n",
      "65536/65536 [==============================] - 1s 16us/step - loss: 0.1491 - acc: 0.1233 - val_loss: 0.1140 - val_acc: 0.1365\n",
      "Epoch 74/100\n",
      "65536/65536 [==============================] - 1s 16us/step - loss: 0.1492 - acc: 0.1242 - val_loss: 0.1138 - val_acc: 0.1397\n",
      "Epoch 75/100\n",
      "65536/65536 [==============================] - 1s 17us/step - loss: 0.1494 - acc: 0.1234 - val_loss: 0.1139 - val_acc: 0.1362\n",
      "Epoch 76/100\n",
      "65536/65536 [==============================] - 1s 18us/step - loss: 0.1490 - acc: 0.1216 - val_loss: 0.1141 - val_acc: 0.1363\n",
      "Epoch 77/100\n",
      "65536/65536 [==============================] - 1s 15us/step - loss: 0.1490 - acc: 0.1217 - val_loss: 0.1140 - val_acc: 0.1400\n",
      "Epoch 78/100\n",
      "65536/65536 [==============================] - 1s 15us/step - loss: 0.1491 - acc: 0.1225 - val_loss: 0.1137 - val_acc: 0.1328\n",
      "Epoch 79/100\n",
      "65536/65536 [==============================] - 1s 16us/step - loss: 0.1485 - acc: 0.1228 - val_loss: 0.1135 - val_acc: 0.1350\n",
      "Epoch 80/100\n",
      "65536/65536 [==============================] - 1s 15us/step - loss: 0.1490 - acc: 0.1218 - val_loss: 0.1139 - val_acc: 0.1449\n",
      "Epoch 81/100\n",
      "65536/65536 [==============================] - 1s 16us/step - loss: 0.1492 - acc: 0.1226 - val_loss: 0.1141 - val_acc: 0.1347\n",
      "Epoch 82/100\n",
      "65536/65536 [==============================] - 1s 15us/step - loss: 0.1492 - acc: 0.1233 - val_loss: 0.1138 - val_acc: 0.1355\n",
      "Epoch 83/100\n",
      "65536/65536 [==============================] - 1s 16us/step - loss: 0.1490 - acc: 0.1229 - val_loss: 0.1135 - val_acc: 0.1375\n",
      "Epoch 84/100\n",
      "65536/65536 [==============================] - 1s 15us/step - loss: 0.1489 - acc: 0.1230 - val_loss: 0.1136 - val_acc: 0.1321\n",
      "Epoch 85/100\n",
      "65536/65536 [==============================] - 1s 16us/step - loss: 0.1492 - acc: 0.1210 - val_loss: 0.1133 - val_acc: 0.1318\n",
      "Epoch 86/100\n",
      "65536/65536 [==============================] - 1s 18us/step - loss: 0.1488 - acc: 0.1208 - val_loss: 0.1139 - val_acc: 0.1335\n",
      "Epoch 87/100\n",
      "65536/65536 [==============================] - 1s 18us/step - loss: 0.1489 - acc: 0.1202 - val_loss: 0.1131 - val_acc: 0.1318\n",
      "Epoch 88/100\n",
      "65536/65536 [==============================] - 1s 18us/step - loss: 0.1489 - acc: 0.1209 - val_loss: 0.1134 - val_acc: 0.1325\n",
      "Epoch 89/100\n",
      "65536/65536 [==============================] - 1s 19us/step - loss: 0.1491 - acc: 0.1218 - val_loss: 0.1133 - val_acc: 0.1314\n",
      "Epoch 90/100\n",
      "65536/65536 [==============================] - 1s 18us/step - loss: 0.1488 - acc: 0.1204 - val_loss: 0.1129 - val_acc: 0.1335\n",
      "Epoch 91/100\n",
      "65536/65536 [==============================] - 1s 20us/step - loss: 0.1489 - acc: 0.1207 - val_loss: 0.1132 - val_acc: 0.1273\n",
      "Epoch 92/100\n",
      "65536/65536 [==============================] - 1s 19us/step - loss: 0.1486 - acc: 0.1219 - val_loss: 0.1129 - val_acc: 0.1327\n",
      "Epoch 93/100\n",
      "65536/65536 [==============================] - 1s 18us/step - loss: 0.1486 - acc: 0.1201 - val_loss: 0.1135 - val_acc: 0.1299\n",
      "Epoch 94/100\n",
      "65536/65536 [==============================] - 1s 17us/step - loss: 0.1488 - acc: 0.1212 - val_loss: 0.1133 - val_acc: 0.1307\n",
      "Epoch 95/100\n",
      "65536/65536 [==============================] - 1s 16us/step - loss: 0.1487 - acc: 0.1199 - val_loss: 0.1132 - val_acc: 0.1342\n",
      "Epoch 96/100\n",
      "65536/65536 [==============================] - 1s 17us/step - loss: 0.1488 - acc: 0.1206 - val_loss: 0.1129 - val_acc: 0.1343\n",
      "Epoch 97/100\n",
      "65536/65536 [==============================] - 1s 17us/step - loss: 0.1490 - acc: 0.1194 - val_loss: 0.1130 - val_acc: 0.1310\n",
      "Epoch 98/100\n",
      "65536/65536 [==============================] - 1s 17us/step - loss: 0.1487 - acc: 0.1203 - val_loss: 0.1128 - val_acc: 0.1320\n",
      "Epoch 99/100\n",
      "65536/65536 [==============================] - 1s 17us/step - loss: 0.1492 - acc: 0.1212 - val_loss: 0.1133 - val_acc: 0.1343\n",
      "Epoch 100/100\n",
      "65536/65536 [==============================] - 1s 18us/step - loss: 0.1488 - acc: 0.1191 - val_loss: 0.1129 - val_acc: 0.1289\n"
     ]
    }
   ],
   "source": [
    "autoencoder.fit(epochs = 100, batch_size=512)"
   ]
  },
  {
   "cell_type": "markdown",
   "metadata": {},
   "source": [
    "## 予測\n",
    "### モノクロ版"
   ]
  },
  {
   "cell_type": "code",
   "execution_count": 335,
   "metadata": {},
   "outputs": [
    {
     "data": {
      "image/png": "[encoded data removed]",
      "text/plain": [
       "<Figure size 1008x1008 with 3 Axes>"
      ]
     },
     "metadata": {
      "needs_background": "light"
     },
     "output_type": "display_data"
    },
    {
     "data": {
      "image/png": "[encoded data removed]",
      "text/plain": [
       "<Figure size 1008x1008 with 3 Axes>"
      ]
     },
     "metadata": {
      "needs_background": "light"
     },
     "output_type": "display_data"
    },
    {
     "data": {
      "image/png": "[encoded data removed]",
      "text/plain": [
       "<Figure size 1008x1008 with 3 Axes>"
      ]
     },
     "metadata": {
      "needs_background": "light"
     },
     "output_type": "display_data"
    }
   ],
   "source": [
    "for i in range(3):\n",
    "    test_img = np.random.randint(0, 2, size=(1,9))\n",
    "    threshold = 0.5\n",
    "    autoencoder.predict(test_img, threshold)"
   ]
  },
  {
   "cell_type": "code",
   "execution_count": 332,
   "metadata": {},
   "outputs": [
    {
     "data": {
      "image/png": "[encoded data removed]",
      "text/plain": [
       "<Figure size 1008x1008 with 3 Axes>"
      ]
     },
     "metadata": {
      "needs_background": "light"
     },
     "output_type": "display_data"
    }
   ],
   "source": [
    "test_img = np.array([[1,1,1,1,0,1,1,1,1]])\n",
    "threshold = 0.5\n",
    "autoencoder.predict(test_img, threshold)"
   ]
  },
  {
   "cell_type": "markdown",
   "metadata": {},
   "source": [
    "## 画像作る用"
   ]
  },
  {
   "cell_type": "code",
   "execution_count": 385,
   "metadata": {},
   "outputs": [],
   "source": [
    "def set_dataset(index):\n",
    "    p_matrix_list = [\n",
    "        np.array([1,1,1,1,1,1,1,1,1,1,0,0,1,1,0,0]).reshape(4,4),\n",
    "        np.array([1, 0.5, 0, 0.5, 1, 0.5, 0, 0.5, 1, 0.5, 0, 0.5, 1, 0.5, 0, 0.5]).reshape(4,4),\n",
    "        0\n",
    "    ]\n",
    "    \n",
    "    q_matrix_list = [\n",
    "        np.array([[1,1,1,1,0.75,0.5,1,0.5,0]]),\n",
    "        np.array([[0.75, 0.25, 0.25, 0.75, 0.25, 0.25, 0.75, 0.25, 0.25]]),\n",
    "        np.array([[1, 1, 1, 1, 0, 1, 1, 1, 1]])\n",
    "    ]\n",
    "    \n",
    "    global file_path\n",
    "    file_path = [\n",
    "        \"p_matrix_\" + str(index) + \".pdf\",\n",
    "        \"q_matrix_\" + str(index) + \".pdf\",\n",
    "        \"answer_\" + str(index) + \".pdf\"\n",
    "    ]\n",
    "    \n",
    "    global output \n",
    "    output = autoencoder.model.predict(q_matrix_list[index]).reshape(4,4)\n",
    "    \n",
    "    global p_matrix\n",
    "    p_matrix = p_matrix_list[index]\n",
    "    \n",
    "    global q_matrix\n",
    "    q_matrix = q_matrix_list[index].reshape(3,3)"
   ]
  },
  {
   "cell_type": "code",
   "execution_count": 394,
   "metadata": {},
   "outputs": [
    {
     "name": "stdout",
     "output_type": "stream",
     "text": [
      "[[0.89703447 0.34937504 0.02897342 0.6765676 ]\n",
      " [0.8363127  0.2858008  0.0837381  0.5716504 ]\n",
      " [0.8418688  0.33991635 0.01152665 0.56085736]\n",
      " [0.8932616  0.25756148 0.06451304 0.5902455 ]]\n",
      "MSE : 0.28707045711852486\n"
     ]
    }
   ],
   "source": [
    "set_dataset(1)\n",
    "print(output)\n",
    "print(\"MSE : \" + str(np.sum((p_matrix - output) ** 2)))"
   ]
  },
  {
   "cell_type": "markdown",
   "metadata": {},
   "source": [
    "### P行列"
   ]
  },
  {
   "cell_type": "code",
   "execution_count": 395,
   "metadata": {},
   "outputs": [
    {
     "data": {
      "text/plain": [
       "<Figure size 432x432 with 0 Axes>"
      ]
     },
     "execution_count": 395,
     "metadata": {},
     "output_type": "execute_result"
    },
    {
     "data": {
      "image/png": "[encoded data removed]",
      "text/plain": [
       "<Figure size 432x288 with 2 Axes>"
      ]
     },
     "metadata": {
      "needs_background": "light"
     },
     "output_type": "display_data"
    },
    {
     "data": {
      "text/plain": [
       "<Figure size 432x432 with 0 Axes>"
      ]
     },
     "metadata": {},
     "output_type": "display_data"
    }
   ],
   "source": [
    "plt.colorbar(plt.imshow(p_matrix, cmap = plt.cm.binary))\n",
    "plt.savefig(file_path[0])\n",
    "plt.figure(figsize = (6,6))"
   ]
  },
  {
   "cell_type": "markdown",
   "metadata": {},
   "source": [
    "### Q行列"
   ]
  },
  {
   "cell_type": "code",
   "execution_count": 396,
   "metadata": {},
   "outputs": [
    {
     "data": {
      "text/plain": [
       "<Figure size 432x432 with 0 Axes>"
      ]
     },
     "execution_count": 396,
     "metadata": {},
     "output_type": "execute_result"
    },
    {
     "data": {
      "image/png": "[encoded data removed]",
      "text/plain": [
       "<Figure size 432x288 with 2 Axes>"
      ]
     },
     "metadata": {
      "needs_background": "light"
     },
     "output_type": "display_data"
    },
    {
     "data": {
      "text/plain": [
       "<Figure size 432x432 with 0 Axes>"
      ]
     },
     "metadata": {},
     "output_type": "display_data"
    }
   ],
   "source": [
    "plt.colorbar(plt.imshow(q_matrix, cmap = plt.cm.binary))\n",
    "plt.savefig(file_path[1])\n",
    "plt.figure(figsize = (6,6))"
   ]
  },
  {
   "cell_type": "markdown",
   "metadata": {},
   "source": [
    "### 出力(output)"
   ]
  },
  {
   "cell_type": "code",
   "execution_count": 397,
   "metadata": {},
   "outputs": [
    {
     "data": {
      "text/plain": [
       "<Figure size 432x432 with 0 Axes>"
      ]
     },
     "execution_count": 397,
     "metadata": {},
     "output_type": "execute_result"
    },
    {
     "data": {
      "image/png": "[encoded data removed]",
      "text/plain": [
       "<Figure size 432x288 with 2 Axes>"
      ]
     },
     "metadata": {
      "needs_background": "light"
     },
     "output_type": "display_data"
    },
    {
     "data": {
      "text/plain": [
       "<Figure size 432x432 with 0 Axes>"
      ]
     },
     "metadata": {},
     "output_type": "display_data"
    }
   ],
   "source": [
    "plt.colorbar(plt.imshow(output, cmap = plt.cm.binary))\n",
    "plt.savefig(file_path[2])\n",
    "plt.figure(figsize = (6,6))"
   ]
  },
  {
   "cell_type": "code",
   "execution_count": null,
   "metadata": {},
   "outputs": [],
   "source": []
  },
  {
   "cell_type": "markdown",
   "metadata": {},
   "source": [
    "### RGB版"
   ]
  },
  {
   "cell_type": "code",
   "execution_count": 133,
   "metadata": {},
   "outputs": [
    {
     "name": "stderr",
     "output_type": "stream",
     "text": [
      "Clipping input data to the valid range for imshow with RGB data ([0..1] for floats or [0..255] for integers).\n",
      "Clipping input data to the valid range for imshow with RGB data ([0..1] for floats or [0..255] for integers).\n",
      "Clipping input data to the valid range for imshow with RGB data ([0..1] for floats or [0..255] for integers).\n"
     ]
    },
    {
     "data": {
      "image/png": "[encoded data removed]",
      "text/plain": [
       "<Figure size 1008x1008 with 3 Axes>"
      ]
     },
     "metadata": {
      "needs_background": "light"
     },
     "output_type": "display_data"
    },
    {
     "data": {
      "image/png": "[encoded data removed]",
      "text/plain": [
       "<Figure size 1008x1008 with 3 Axes>"
      ]
     },
     "metadata": {
      "needs_background": "light"
     },
     "output_type": "display_data"
    },
    {
     "data": {
      "image/png": "[encoded data removed]",
      "text/plain": [
       "<Figure size 1008x1008 with 3 Axes>"
      ]
     },
     "metadata": {
      "needs_background": "light"
     },
     "output_type": "display_data"
    }
   ],
   "source": [
    "for i in range(3):\n",
    "    test_img = np.random.rand(3,3,3)\n",
    "    threshold = 0.5\n",
    "    autoencoder.predict_RGB(test_img, threshold)"
   ]
  },
  {
   "cell_type": "markdown",
   "metadata": {},
   "source": [
    "## より大きな画像で超解像を行う\n",
    "\n",
    "### 仕様\n",
    "- `input_img` \n",
    "    - (3 x n, 3 x m) dimention\n",
    "    - from 0 to 1 \n",
    "    \n",
    "- `output_img`\n",
    "    - (4 x n, 4 x m) dimention\n",
    "    - 0 or 1 binalized\n",
    "    \n",
    "- `thresold`"
   ]
  },
  {
   "cell_type": "code",
   "execution_count": 134,
   "metadata": {},
   "outputs": [
    {
     "data": {
      "text/plain": [
       "Text(0.5, 1.0, 'output image with biinalization')"
      ]
     },
     "execution_count": 134,
     "metadata": {},
     "output_type": "execute_result"
    },
    {
     "data": {
      "image/png": "[encoded data removed]",
      "text/plain": [
       "<Figure size 864x864 with 3 Axes>"
      ]
     },
     "metadata": {
      "needs_background": "light"
     },
     "output_type": "display_data"
    }
   ],
   "source": [
    "# n = 4\n",
    "# m = 4\n",
    "thresold = 0.5\n",
    "input_img = np.random.randint(0, 10, (18,18), dtype='int8') / 10\n",
    "x, y = input_img.shape\n",
    "n, m = int( x / 3 ), int( y / 3 )\n",
    "output_img = np.empty((4 * n , 4 * m), dtype='float64')\n",
    "\n",
    "for i, j in iter.product(range(n), range(m)):\n",
    "    partial_img = input_img.copy()[ 3 * j : 3 * (j + 1), 3 * i : 3 * ( i + 1)] \n",
    "    partial_img = autoencoder.model.predict(partial_img.reshape(1,9))\n",
    "    output_img[4 * j : 4 * (j + 1), 4 * i : 4 * ( i + 1)] = partial_img.reshape(4,4)\n",
    "\n",
    "output_img_binalized = output_img.copy()\n",
    "output_img_binalized[output_img_binalized >= thresold] = 1\n",
    "output_img_binalized[output_img_binalized < thresold] = 0\n",
    "\n",
    "fig, axes = plt.subplots(1,3, figsize = (12,12))\n",
    "axes[0].imshow(input_img, cmap = plt.cm.binary)\n",
    "axes[0].set_title(\"input image\")\n",
    "axes[1].imshow(output_img, cmap = plt.cm.binary)\n",
    "axes[1].set_title(\"output image\")\n",
    "axes[2].imshow(output_img_binalized, cmap = plt.cm.binary)\n",
    "axes[2].set_title(\"output image with biinalization\")"
   ]
  },
  {
   "cell_type": "markdown",
   "metadata": {},
   "source": [
    "## メソッド版\n",
    "- `img1.jpeg` : 理科大マーク\n",
    "- `img2.jpg` : 激重\n",
    "- `img3.jpg` : 葛飾\n",
    "- `img4.jpg` : ロックマン"
   ]
  },
  {
   "cell_type": "code",
   "execution_count": null,
   "metadata": {},
   "outputs": [],
   "source": [
    "input_img = np.array(Image.open(\"img/img3.jpg\"), \"f\") / 255\n",
    "output_img = autoencoder.SR(input_img, 0.5)\n",
    "img = Image.fromarray(np.uint8(255 * output_img))\n",
    "img.save('img/img4_a(1)_adam_mse_4.jpg', quality=95)"
   ]
  },
  {
   "cell_type": "markdown",
   "metadata": {},
   "source": [
    "## 画像劣化と超解像\n",
    "\n",
    "左から順に\n",
    "- `input_image`\n",
    "- `Pillowによりサイズダウンされた画像` \n",
    "- `サイズダウンされた画像の超解像画像`"
   ]
  },
  {
   "cell_type": "code",
   "execution_count": null,
   "metadata": {},
   "outputs": [],
   "source": [
    "file_path = \"img/img4.jpg\"\n",
    "input_img = Image.open(file_path)\n",
    "\n",
    "img_width, img_height = input_img.size\n",
    "ratio = 3 / 4\n",
    "resized_width =  int(input_img.size[0] * ratio)\n",
    "resized_height = int(input_img.size[1] * ratio)\n",
    "\n",
    "resized_img = input_img.resize((resized_width, resized_height))\n",
    "resized_img = np.array(resized_img, \"f\") / 255\n",
    "\n",
    "\n",
    "output_img = autoencoder.SR(resized_img, 0.5)\n"
   ]
  },
  {
   "cell_type": "code",
   "execution_count": null,
   "metadata": {},
   "outputs": [],
   "source": [
    "file_path = \"img/img3.jpg\"\n",
    "autoencoder.SR2(file_path, mean = 0, sd = 0)"
   ]
  },
  {
   "cell_type": "markdown",
   "metadata": {},
   "source": [
    "## ベイズあり"
   ]
  },
  {
   "cell_type": "code",
   "execution_count": 145,
   "metadata": {},
   "outputs": [
    {
     "name": "stdout",
     "output_type": "stream",
     "text": [
      "[[ 0.45697296  0.46111524  0.58606124  0.5691823 ]\n",
      " [ 0.50051117  0.6102326   0.4500168   0.39410502]\n",
      " [ 0.60444987  0.542842    0.56766725  0.5999821 ]\n",
      " [ 0.5264662  -0.          0.7197065   0.75124425]] [[0. 0. 1. 1.]\n",
      " [1. 1. 0. 0.]\n",
      " [1. 1. 1. 1.]\n",
      " [1. 0. 1. 1.]]\n",
      "[[0. 1. 1. 1. 1. 0. 0. 0. 0. 1. 1. 1. 1. 1. 1. 1.]\n",
      " [1. 1. 1. 1. 0. 0. 0. 0. 1. 1. 1. 1. 0. 1. 1. 1.]]\n",
      "2\n",
      "2\n",
      "2\n",
      "2\n",
      "2\n",
      "2\n",
      "2\n",
      "2\n",
      "2\n",
      "2\n",
      "2\n",
      "2\n",
      "2\n",
      "2\n",
      "2\n",
      "2\n"
     ]
    },
    {
     "data": {
      "image/png": "[encoded data removed]",
      "text/plain": [
       "<Figure size 1152x1152 with 5 Axes>"
      ]
     },
     "metadata": {
      "needs_background": "light"
     },
     "output_type": "display_data"
    }
   ],
   "source": [
    "test_img = np.array([[1,1,1,0.5,0.5,0.5,0.5,0.5,0.5]])\n",
    "test_img = np.array([[0.5, 0.5,0.5,0.5,0.5,0.5,0.75,1,1]])\n",
    "autoencoder.bayes(test_img)"
   ]
  },
  {
   "cell_type": "markdown",
   "metadata": {},
   "source": [
    "### ゴミ"
   ]
  },
  {
   "cell_type": "code",
   "execution_count": null,
   "metadata": {},
   "outputs": [],
   "source": [
    "output_img = autoencoder.SR(output_img, 0.5)\n",
    "img = Image.fromarray(np.uint8(255 * output_img))\n",
    "img.save('img/img3_a(0_1)_twice.jpg', quality=95)"
   ]
  },
  {
   "cell_type": "markdown",
   "metadata": {},
   "source": [
    "## ベイズルールによる結果(Duplicated)"
   ]
  },
  {
   "cell_type": "code",
   "execution_count": null,
   "metadata": {},
   "outputs": [],
   "source": [
    "index_when_given_q = np.all(autoencoder.q_matrix == test_img, axis = 1)\n",
    "p_given_q = autoencoder.p_matrix[index_when_given_q]"
   ]
  },
  {
   "cell_type": "code",
   "execution_count": null,
   "metadata": {},
   "outputs": [],
   "source": [
    "n = 16\n",
    "for i in range(n):\n",
    "    ax = plt.subplot(4, 4, i+1)\n",
    "    plt.hist([p_given_q[j][i] for j in range(p_given_q.shape[0])], bins = [0,1,2])"
   ]
  },
  {
   "cell_type": "code",
   "execution_count": null,
   "metadata": {},
   "outputs": [],
   "source": [
    "n = 16\n",
    "bayes_image = np.empty(n)\n",
    "for i in range(n):\n",
    "    is_one_counter = 0\n",
    "    target_list = [p_given_q[j][i] for j in range(p_given_q.shape[0])]\n",
    "    total_length = len(target_list)\n",
    "    \n",
    "    for j in range(total_length):\n",
    "        if target_list[j] == 1:\n",
    "            is_one_counter += 1\n",
    "    prob = is_one_counter / total_length\n",
    "    bayes_image[i] = prob"
   ]
  },
  {
   "cell_type": "code",
   "execution_count": null,
   "metadata": {},
   "outputs": [],
   "source": [
    "bayes_image"
   ]
  },
  {
   "cell_type": "code",
   "execution_count": null,
   "metadata": {},
   "outputs": [],
   "source": [
    "plt.imshow(bayes_image.reshape(4,4), cmap = plt.cm.binary)"
   ]
  },
  {
   "cell_type": "code",
   "execution_count": null,
   "metadata": {},
   "outputs": [],
   "source": [
    "test = np.random.randint(0,2,(6,4))\n",
    "x, y = test.shape\n",
    "xy = 0 #count x = 0, y = 1\n",
    "pad_list = []\n",
    "for i in [x, y]:\n",
    "    if i % 3 == 0:\n",
    "        pad_list.append(0)\n",
    "    elif i % 3 == 1:\n",
    "        pad_list.append(2)\n",
    "    else:\n",
    "        pad_list.append(1)\n",
    "    xy += 1\n",
    "\n",
    "test_ = np.zeros((x + pad_list[0], y + pad_list[1]))\n",
    "print(test_.shape)"
   ]
  },
  {
   "cell_type": "code",
   "execution_count": null,
   "metadata": {},
   "outputs": [],
   "source": [
    "np.arange(6).reshape(1,2,3)"
   ]
  },
  {
   "cell_type": "code",
   "execution_count": null,
   "metadata": {},
   "outputs": [],
   "source": [
    "np.array(Image.open(\"img/img4.jpg\"), \"f\").shape"
   ]
  },
  {
   "cell_type": "code",
   "execution_count": null,
   "metadata": {},
   "outputs": [],
   "source": [
    "class AE():\n",
    "    def __init__(self, optimizer='rmsprop', loss='mean_squared_error', input_data_path=\"../4x4matrix.csv\"):\n",
    "        self.p_matrix = np.load(\"4x4matrix.npz\")[\"p_matrix\"]\n",
    "        self.q_matrix = np.load(\"4x4matrix.npz\")[\"q_matrix\"]\n",
    "        self.optimizer = optimizer\n",
    "        self.model = Sequential()\n",
    "        self.model.add( Dense(16, activation = 'relu', input_dim = 9) )\n",
    "        #self.model.add( Dense(16, activation = 'relu') )\n",
    "        self.model.add( Dense(16, activation = 'relu') )\n",
    "        self.model.add( Dense(16, activation = 'relu') )\n",
    "        #self.model.add( Dense(16, activation = keras.layers.ReLU(max_value=1, negative_slope=0, threshold = 0)) )\n",
    "        #self.model.add( Dense(16, activation = keras.layers.ReLU(max_value=1, negative_slope=0, threshold = 0)) )\n",
    "        self.model.compile(optimizer = optimizer,\n",
    "                           loss = loss,\n",
    "                           metrics = ['accuracy'])\n",
    "        \n",
    "    def fit(self, epochs='4', batch_size='256'):\n",
    "        self.model.fit(self.q_matrix, self.p_matrix,\n",
    "                      epochs = epochs,\n",
    "                      batch_size = batch_size,\n",
    "                      validation_data = (self.q_matrix, self.p_matrix))\n",
    "    \n",
    "    def predict(self, test_img, threshold):\n",
    "        preds = self.model.predict(test_img).reshape(4,4)\n",
    "        preds_binary = preds.copy()\n",
    "        preds_binary[preds_binary < threshold] = 0\n",
    "        preds_binary[preds_binary >= threshold] = 1\n",
    "        print(preds, preds_binary)\n",
    "        \n",
    "        if test_img.dtype == 'int64':\n",
    "            ncols = 5\n",
    "            fig, axes = plt.subplots(nrows = 1, ncols = ncols, figsize = (14,14))\n",
    "            bayes_image = np.empty(16)\n",
    "            index_when_given_q = np.all(self.q_matrix == test_img.reshape(9,), axis = 1)\n",
    "            p_given_q = self.p_matrix[index_when_given_q]\n",
    "            print(p_given_q)\n",
    "            for col in range(16):\n",
    "                is_one_counter = 0\n",
    "                target_list = [p_given_q[row][col] for row in range(p_given_q.shape[0])]\n",
    "                total_length = len(target_list)\n",
    "    \n",
    "                for j in range(total_length):\n",
    "                    if target_list[j] == 1:\n",
    "                        is_one_counter += 1\n",
    "                prob = is_one_counter / total_length\n",
    "                bayes_image[i] = prob\n",
    "            axes[3].imshow(bayes_image.reshape(4,4), cmap = plt.cm.binary)\n",
    "            axes[3].set_title(\"p(P|Q) image based on bayes\")\n",
    "            bayes_image[ bayes_image < thresold ] = 0\n",
    "            bayes_image[ bayes_image >= thresold ] = 1\n",
    "            axes[4].imshow(bayes_image.reshape(4,4), cmap = plt.cm.binary)\n",
    "            axes[4].set_title(\"p(P|Q) image based on bayes with binalization\")\n",
    "            \n",
    "        elif test_img.dtype == 'float64':\n",
    "            ncols = 3\n",
    "            fig, axes = plt.subplots(nrows = 1, ncols = ncols, figsize = (14,14))\n",
    "        \n",
    "\n",
    "        axes[0].imshow(test_img.reshape(3,3), cmap = plt.cm.binary)\n",
    "        axes[0].set_title(\"original image\")\n",
    "        axes[1].imshow(preds, cmap = plt.cm.binary)\n",
    "        axes[1].set_title(\"predicted image\")\n",
    "        axes[2].imshow(preds_binary, cmap = plt.cm.binary)\n",
    "        axes[2].set_title(\"predicted image with binalization\")\n",
    "        \n",
    "    def SR(self, input_img, thresold):\n",
    "        # Preprocessing area\n",
    "        x, y, z = input_img.shape # dimention x and y\n",
    "        pad_list = [] # padding count x = 0, y = 1\n",
    "        for i in [x, y]:\n",
    "            if i % 3 == 0:\n",
    "                pad_list.append(0)\n",
    "            elif i % 3 == 1:\n",
    "                pad_list.append(2)\n",
    "            else:\n",
    "                pad_list.append(1)\n",
    "        \n",
    "        temp = np.zeros((x + pad_list[0], y + pad_list[1], 3), dtype='float32') # new temporary array replaced with input_img\n",
    "        temp[ 0 : x, 0 : y , 0 : z] = input_img\n",
    "        input_img = temp\n",
    "        m,n = int(input_img.shape[0] / 3), int(input_img.shape[1] / 3)\n",
    "        output_img = np.empty((4 * m , 4 * n, 3), dtype='float32')\n",
    "        print(pad_list[0], pad_list[1])\n",
    "        \n",
    "        # SR area\n",
    "        for dim in [0,1,2]:\n",
    "            for i, j in iter.product(range(n), range(m)):\n",
    "                partial_img = input_img.copy()[ 3 * j : 3 * ( j + 1 ), 3 * i : 3 * ( i + 1), dim] \n",
    "                if np.all(partial_img < 0.1):\n",
    "                    partial_img = np.zeros(16)\n",
    "                else:\n",
    "                    partial_img = self.model.predict( partial_img.reshape(1,9) )\n",
    "                output_img[4 * j : 4 * (j + 1), 4 * i : 4 * ( i + 1), dim] = partial_img.reshape(4,4)\n",
    "        \n",
    "        max_val = output_img.max()\n",
    "        output_img /= max_val\n",
    "        output_img_binalized = output_img.copy()\n",
    "        output_img_binalized[output_img_binalized >= thresold] = 1\n",
    "        output_img_binalized[output_img_binalized < thresold] = 0\n",
    "\n",
    "        fig, axes = plt.subplots(1,3, figsize = (12,12))\n",
    "        axes[0].imshow(input_img, cmap = plt.cm.binary)\n",
    "        axes[0].set_title(\"input image\")\n",
    "        axes[1].imshow(output_img, cmap = plt.cm.binary)\n",
    "        axes[1].set_title(\"output image\")\n",
    "        axes[2].imshow(output_img_binalized, cmap = plt.cm.binary)\n",
    "        axes[2].set_title(\"output image with biinalization\")\n",
    "        \n",
    "        return output_img"
   ]
  },
  {
   "cell_type": "code",
   "execution_count": null,
   "metadata": {},
   "outputs": [],
   "source": [
    "np.random.normal(1,1,(3,3))"
   ]
  },
  {
   "cell_type": "markdown",
   "metadata": {},
   "source": [
    "## CNN版(開発途中)\n",
    "Generatorをいじる必要あり\n",
    "\n",
    "`(batch, height, width, channel)`"
   ]
  },
  {
   "cell_type": "code",
   "execution_count": null,
   "metadata": {},
   "outputs": [],
   "source": [
    "class AE():\n",
    "    def __init__(self, optimizer='rmsprop', loss='mean_squared_error', input_data_path=\"../4x4matrix.csv\"):\n",
    "        self.p_matrix = np.load(\"4x4matrix_cnn.npz\")[\"p_matrix\"]\n",
    "        self.q_matrix = np.load(\"4x4matrix_cnn.npz\")[\"q_matrix\"]\n",
    "        self.optimizer = optimizer\n",
    "        self.model = Sequential()\n",
    "        self.model.add(Conv2D(8, kernel_size=(3, 3),padding ='same', activation='relu', input_shape=(3,3,1)))\n",
    "        self.model.add(UpSampling2D((4/3,4/3)))\n",
    "        self.model.add(Conv2D(1, kernel_size=(3, 3),padding ='same', activation='relu'))\n",
    "        self.model.add(Conv2D(1, kernel_size=(3, 3),padding ='same', activation='relu'))\n",
    "        self.model.compile(optimizer = optimizer,\n",
    "                           loss = loss,\n",
    "                           metrics = ['accuracy'])\n",
    "        plot_model(self.model, to_file='./model_cnn.png')\n",
    "    def fit(self, epochs='4', batch_size='256'):\n",
    "        self.model.fit(self.q_matrix, self.p_matrix,\n",
    "                      epochs = epochs,\n",
    "                      batch_size = batch_size)\n",
    "    \n",
    "    def predict(self, test_img, threshold):\n",
    "        preds = self.model.predict(test_img).reshape(4,4)\n",
    "        preds_binary = preds.copy()\n",
    "        preds_binary[preds_binary < threshold] = 0\n",
    "        preds_binary[preds_binary >= threshold] = 1\n",
    "        ncols = 3\n",
    "        fig, axes = plt.subplots(nrows = 1, ncols = ncols, figsize = (14,14))\n",
    "        axes[0].imshow(test_img.reshape(3,3), cmap = plt.cm.binary)\n",
    "        axes[0].set_title(\"original image\")\n",
    "        axes[1].imshow(preds, cmap = plt.cm.binary)\n",
    "        axes[1].set_title(\"predicted image\")\n",
    "        axes[2].imshow(preds_binary, cmap = plt.cm.binary)\n",
    "        axes[2].set_title(\"predicted image with binalization\")\n",
    "    \n",
    "    def predict_RGB(self, test_img, threshold):\n",
    "        preds = np.empty((4,4,3), dtype='float32')\n",
    "        preds_binary = np.empty((4,4,3), dtype='float32')\n",
    "        for dim in range(test_img.shape[2]):\n",
    "            preds[ : , : , dim] = self.model.predict(test_img[ : , : , dim].reshape(1,9)).reshape(4,4)\n",
    "            preds_binary[ : , : , dim] = preds[ : , : , dim].copy()\n",
    "        preds_binary[preds_binary < threshold] = 0\n",
    "        preds_binary[preds_binary >= threshold] = 1\n",
    "        ncols = 3\n",
    "        fig, axes = plt.subplots(nrows = 1, ncols = ncols, figsize = (14,14))\n",
    "        axes[0].imshow(test_img, cmap = plt.cm.binary)\n",
    "        axes[0].set_title(\"original image\")\n",
    "        axes[1].imshow(preds, cmap = plt.cm.binary)\n",
    "        axes[1].set_title(\"predicted image\")\n",
    "        axes[2].imshow(preds_binary, cmap = plt.cm.binary)\n",
    "        axes[2].set_title(\"predicted image with binalization\")\n",
    "        \n",
    "    def SR(self, input_img, thresold):\n",
    "        # Preprocessing area\n",
    "        x, y, z = input_img.shape # dimention x and y\n",
    "        pad_list = [] # padding count x = 0, y = 1\n",
    "        for i in [x, y]:\n",
    "            if i % 3 == 0:\n",
    "                pad_list.append(0)\n",
    "            elif i % 3 == 1:\n",
    "                pad_list.append(2)\n",
    "            else:\n",
    "                pad_list.append(1)\n",
    "        \n",
    "        temp = np.zeros((x + pad_list[0], y + pad_list[1], 3), dtype='float32') # new temporary array replaced with input_img\n",
    "        temp[ 0 : x, 0 : y , 0 : z] = input_img\n",
    "        input_img = temp\n",
    "        m,n = int(input_img.shape[0] / 3), int(input_img.shape[1] / 3)\n",
    "        output_img = np.empty((4 * m , 4 * n, 3), dtype='float32')\n",
    "        print(pad_list[0], pad_list[1])\n",
    "        \n",
    "        # SR area\n",
    "        for dim in [0,1,2]:\n",
    "            for i, j in iter.product(range(n), range(m)):\n",
    "                partial_img = input_img.copy()[ 3 * j : 3 * ( j + 1 ), 3 * i : 3 * ( i + 1), dim] \n",
    "                if np.all(partial_img < 0.1):\n",
    "                    partial_img = np.zeros(16)\n",
    "                else:\n",
    "                    partial_img = self.model.predict( partial_img.reshape(1,9) )\n",
    "                output_img[4 * j : 4 * (j + 1), 4 * i : 4 * ( i + 1), dim] = partial_img.reshape(4,4)\n",
    "        \n",
    "        max_val = output_img.max()\n",
    "        output_img /= max_val\n",
    "        output_img_binalized = output_img.copy()\n",
    "        output_img_binalized[output_img_binalized >= thresold] = 1\n",
    "        output_img_binalized[output_img_binalized < thresold] = 0\n",
    "\n",
    "        fig, axes = plt.subplots(1,3, figsize = (12,12))\n",
    "        axes[0].imshow(input_img, cmap = plt.cm.binary)\n",
    "        axes[0].set_title(\"input image\")\n",
    "        axes[1].imshow(output_img, cmap = plt.cm.binary)\n",
    "        axes[1].set_title(\"output image\")\n",
    "        axes[2].imshow(output_img_binalized, cmap = plt.cm.binary)\n",
    "        axes[2].set_title(\"output image with biinalization\")\n",
    "        \n",
    "        return output_img\n",
    "    \n"
   ]
  }
 ],
 "metadata": {
  "kernelspec": {
   "display_name": "Python 3",
   "language": "python",
   "name": "python3"
  },
  "language_info": {
   "codemirror_mode": {
    "name": "ipython",
    "version": 3
   },
   "file_extension": ".py",
   "mimetype": "text/x-python",
   "name": "python",
   "nbconvert_exporter": "python",
   "pygments_lexer": "ipython3",
   "version": "3.6.6"
  }
 },
 "nbformat": 4,
 "nbformat_minor": 2
}
